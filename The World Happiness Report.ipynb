{
 "cells": [
  {
   "cell_type": "code",
   "execution_count": 1,
   "id": "f499f61d-d420-4df9-ae9f-9f9fa1071c60",
   "metadata": {},
   "outputs": [],
   "source": [
    "URL = \"https://cf-courses-data.s3.us.cloud-object-storage.appdomain.cloud/IBMSkillsNetwork-AI0272EN-SkillsNetwork/labs/dataset/2016.csv\""
   ]
  },
  {
   "cell_type": "code",
   "execution_count": 2,
   "id": "c10543e7-c390-49d4-b861-fae76ffd42b4",
   "metadata": {},
   "outputs": [],
   "source": [
    "import pandas as pd\n",
    "df=pd.read_csv(URL)"
   ]
  },
  {
   "cell_type": "code",
   "execution_count": 3,
   "id": "d32113ae-4f36-4597-98bc-cc2a7f3a447b",
   "metadata": {},
   "outputs": [
    {
     "data": {
      "text/html": [
       "<div>\n",
       "<style scoped>\n",
       "    .dataframe tbody tr th:only-of-type {\n",
       "        vertical-align: middle;\n",
       "    }\n",
       "\n",
       "    .dataframe tbody tr th {\n",
       "        vertical-align: top;\n",
       "    }\n",
       "\n",
       "    .dataframe thead th {\n",
       "        text-align: right;\n",
       "    }\n",
       "</style>\n",
       "<table border=\"1\" class=\"dataframe\">\n",
       "  <thead>\n",
       "    <tr style=\"text-align: right;\">\n",
       "      <th></th>\n",
       "      <th>Country</th>\n",
       "      <th>Region</th>\n",
       "      <th>Happiness Rank</th>\n",
       "      <th>Happiness Score</th>\n",
       "      <th>Lower Confidence Interval</th>\n",
       "      <th>Upper Confidence Interval</th>\n",
       "      <th>Economy (GDP per Capita)</th>\n",
       "      <th>Family</th>\n",
       "      <th>Health (Life Expectancy)</th>\n",
       "      <th>Freedom</th>\n",
       "      <th>Trust (Government Corruption)</th>\n",
       "      <th>Generosity</th>\n",
       "      <th>Dystopia Residual</th>\n",
       "    </tr>\n",
       "  </thead>\n",
       "  <tbody>\n",
       "    <tr>\n",
       "      <th>0</th>\n",
       "      <td>Denmark</td>\n",
       "      <td>Western Europe</td>\n",
       "      <td>1</td>\n",
       "      <td>7.526</td>\n",
       "      <td>7.460</td>\n",
       "      <td>7.592</td>\n",
       "      <td>1.44178</td>\n",
       "      <td>1.16374</td>\n",
       "      <td>0.79504</td>\n",
       "      <td>0.57941</td>\n",
       "      <td>0.44453</td>\n",
       "      <td>0.36171</td>\n",
       "      <td>2.73939</td>\n",
       "    </tr>\n",
       "    <tr>\n",
       "      <th>1</th>\n",
       "      <td>Switzerland</td>\n",
       "      <td>Western Europe</td>\n",
       "      <td>2</td>\n",
       "      <td>7.509</td>\n",
       "      <td>7.428</td>\n",
       "      <td>7.59</td>\n",
       "      <td>1.52733</td>\n",
       "      <td>1.14524</td>\n",
       "      <td>0.86303</td>\n",
       "      <td>0.58557</td>\n",
       "      <td>0.41203</td>\n",
       "      <td>0.28083</td>\n",
       "      <td>2.69463</td>\n",
       "    </tr>\n",
       "    <tr>\n",
       "      <th>2</th>\n",
       "      <td>Iceland</td>\n",
       "      <td>Western Europe</td>\n",
       "      <td>3</td>\n",
       "      <td>7.501</td>\n",
       "      <td>7.333</td>\n",
       "      <td>7.669</td>\n",
       "      <td>1.42666</td>\n",
       "      <td>1.18326</td>\n",
       "      <td>0.86733</td>\n",
       "      <td>0.56624</td>\n",
       "      <td>0.14975</td>\n",
       "      <td>0.47678</td>\n",
       "      <td>2.83137</td>\n",
       "    </tr>\n",
       "    <tr>\n",
       "      <th>3</th>\n",
       "      <td>Norway</td>\n",
       "      <td>Western Europe</td>\n",
       "      <td>4</td>\n",
       "      <td>7.498</td>\n",
       "      <td>7.421</td>\n",
       "      <td>7.575</td>\n",
       "      <td>1.57744</td>\n",
       "      <td>1.12690</td>\n",
       "      <td>0.79579</td>\n",
       "      <td>0.59609</td>\n",
       "      <td>0.35776</td>\n",
       "      <td>0.37895</td>\n",
       "      <td>2.66465</td>\n",
       "    </tr>\n",
       "    <tr>\n",
       "      <th>4</th>\n",
       "      <td>Finland</td>\n",
       "      <td>Western Europe</td>\n",
       "      <td>5</td>\n",
       "      <td>7.413</td>\n",
       "      <td>7.351</td>\n",
       "      <td>7.475</td>\n",
       "      <td>1.40598</td>\n",
       "      <td>1.13464</td>\n",
       "      <td>0.81091</td>\n",
       "      <td>0.57104</td>\n",
       "      <td>0.41004</td>\n",
       "      <td>0.25492</td>\n",
       "      <td>2.82596</td>\n",
       "    </tr>\n",
       "  </tbody>\n",
       "</table>\n",
       "</div>"
      ],
      "text/plain": [
       "       Country          Region  Happiness Rank  Happiness Score  \\\n",
       "0      Denmark  Western Europe               1            7.526   \n",
       "1  Switzerland  Western Europe               2            7.509   \n",
       "2      Iceland  Western Europe               3            7.501   \n",
       "3       Norway  Western Europe               4            7.498   \n",
       "4      Finland  Western Europe               5            7.413   \n",
       "\n",
       "   Lower Confidence Interval Upper Confidence Interval  \\\n",
       "0                      7.460                     7.592   \n",
       "1                      7.428                      7.59   \n",
       "2                      7.333                     7.669   \n",
       "3                      7.421                     7.575   \n",
       "4                      7.351                     7.475   \n",
       "\n",
       "  Economy (GDP per Capita)   Family Health (Life Expectancy)  Freedom  \\\n",
       "0                  1.44178  1.16374                  0.79504  0.57941   \n",
       "1                  1.52733  1.14524                  0.86303  0.58557   \n",
       "2                  1.42666  1.18326                  0.86733  0.56624   \n",
       "3                  1.57744  1.12690                  0.79579  0.59609   \n",
       "4                  1.40598  1.13464                  0.81091  0.57104   \n",
       "\n",
       "   Trust (Government Corruption)  Generosity  Dystopia Residual  \n",
       "0                        0.44453     0.36171            2.73939  \n",
       "1                        0.41203     0.28083            2.69463  \n",
       "2                        0.14975     0.47678            2.83137  \n",
       "3                        0.35776     0.37895            2.66465  \n",
       "4                        0.41004     0.25492            2.82596  "
      ]
     },
     "execution_count": 3,
     "metadata": {},
     "output_type": "execute_result"
    }
   ],
   "source": [
    "df.head()"
   ]
  },
  {
   "cell_type": "code",
   "execution_count": 4,
   "id": "1bfc7d73-0160-4a12-aacc-f0a3c244d06a",
   "metadata": {},
   "outputs": [
    {
     "data": {
      "text/plain": [
       "Country                           object\n",
       "Region                            object\n",
       "Happiness Rank                     int64\n",
       "Happiness Score                  float64\n",
       "Lower Confidence Interval        float64\n",
       "Upper Confidence Interval         object\n",
       "Economy (GDP per Capita)          object\n",
       "Family                           float64\n",
       "Health (Life Expectancy)          object\n",
       "Freedom                           object\n",
       "Trust (Government Corruption)    float64\n",
       "Generosity                       float64\n",
       "Dystopia Residual                float64\n",
       "dtype: object"
      ]
     },
     "execution_count": 4,
     "metadata": {},
     "output_type": "execute_result"
    }
   ],
   "source": [
    "df.dtypes"
   ]
  },
  {
   "cell_type": "code",
   "execution_count": 5,
   "id": "cb88b868-c8ae-4283-9cee-9234d1cfeb00",
   "metadata": {},
   "outputs": [
    {
     "data": {
      "text/plain": [
       "(157, 13)"
      ]
     },
     "execution_count": 5,
     "metadata": {},
     "output_type": "execute_result"
    }
   ],
   "source": [
    "df.shape"
   ]
  },
  {
   "cell_type": "code",
   "execution_count": 6,
   "id": "9e3e212c-ba23-4063-b338-021b3142616b",
   "metadata": {},
   "outputs": [
    {
     "name": "stderr",
     "output_type": "stream",
     "text": [
      "C:\\Users\\43667\\AppData\\Local\\Temp\\ipykernel_7160\\869802577.py:3: FutureWarning: DataFrame.applymap has been deprecated. Use DataFrame.map instead.\n",
      "  df = df.applymap(lambda x: x.strip() if isinstance(x, str) else x)\n"
     ]
    }
   ],
   "source": [
    "#To remove whitespaces from all columns in the DataFrame:\n",
    "\n",
    "df = df.applymap(lambda x: x.strip() if isinstance(x, str) else x)\n"
   ]
  },
  {
   "cell_type": "code",
   "execution_count": 10,
   "id": "129040cf-4ad8-48b8-8456-92e35277e200",
   "metadata": {},
   "outputs": [],
   "source": [
    "#replace empty strings across all columns\n",
    "import numpy as np\n",
    "df.replace('', np.nan, inplace=True)\n"
   ]
  },
  {
   "cell_type": "code",
   "execution_count": 11,
   "id": "aba9658d-ed9f-45eb-99be-f9d535ce4efa",
   "metadata": {},
   "outputs": [
    {
     "name": "stdout",
     "output_type": "stream",
     "text": [
      "<class 'pandas.core.frame.DataFrame'>\n",
      "RangeIndex: 157 entries, 0 to 156\n",
      "Data columns (total 13 columns):\n",
      " #   Column                         Non-Null Count  Dtype  \n",
      "---  ------                         --------------  -----  \n",
      " 0   Country                        157 non-null    object \n",
      " 1   Region                         157 non-null    object \n",
      " 2   Happiness Rank                 157 non-null    int64  \n",
      " 3   Happiness Score                157 non-null    float64\n",
      " 4   Lower Confidence Interval      153 non-null    float64\n",
      " 5   Upper Confidence Interval      154 non-null    object \n",
      " 6   Economy (GDP per Capita)       155 non-null    object \n",
      " 7   Family                         157 non-null    float64\n",
      " 8   Health (Life Expectancy)       154 non-null    object \n",
      " 9   Freedom                        156 non-null    object \n",
      " 10  Trust (Government Corruption)  157 non-null    float64\n",
      " 11  Generosity                     157 non-null    float64\n",
      " 12  Dystopia Residual              157 non-null    float64\n",
      "dtypes: float64(6), int64(1), object(6)\n",
      "memory usage: 16.1+ KB\n"
     ]
    }
   ],
   "source": [
    "df.info()"
   ]
  },
  {
   "cell_type": "code",
   "execution_count": 12,
   "id": "57bd066c-a4c9-4b37-bb85-9e46af7f37a9",
   "metadata": {},
   "outputs": [
    {
     "name": "stdout",
     "output_type": "stream",
     "text": [
      "<class 'pandas.core.frame.DataFrame'>\n",
      "RangeIndex: 157 entries, 0 to 156\n",
      "Data columns (total 13 columns):\n",
      " #   Column                         Non-Null Count  Dtype  \n",
      "---  ------                         --------------  -----  \n",
      " 0   Country                        157 non-null    string \n",
      " 1   Region                         157 non-null    string \n",
      " 2   Happiness Rank                 157 non-null    int64  \n",
      " 3   Happiness Score                157 non-null    float64\n",
      " 4   Lower Confidence Interval      153 non-null    float64\n",
      " 5   Upper Confidence Interval      154 non-null    float64\n",
      " 6   Economy (GDP per Capita)       155 non-null    float64\n",
      " 7   Family                         157 non-null    float64\n",
      " 8   Health (Life Expectancy)       154 non-null    float64\n",
      " 9   Freedom                        156 non-null    float64\n",
      " 10  Trust (Government Corruption)  157 non-null    float64\n",
      " 11  Generosity                     157 non-null    float64\n",
      " 12  Dystopia Residual              157 non-null    float64\n",
      "dtypes: float64(10), int64(1), string(2)\n",
      "memory usage: 16.1 KB\n",
      "None\n",
      "       Country          Region  Happiness Rank  Happiness Score  \\\n",
      "0      Denmark  Western Europe               1            7.526   \n",
      "1  Switzerland  Western Europe               2            7.509   \n",
      "2      Iceland  Western Europe               3            7.501   \n",
      "3       Norway  Western Europe               4            7.498   \n",
      "4      Finland  Western Europe               5            7.413   \n",
      "\n",
      "   Lower Confidence Interval  Upper Confidence Interval  \\\n",
      "0                      7.460                      7.592   \n",
      "1                      7.428                      7.590   \n",
      "2                      7.333                      7.669   \n",
      "3                      7.421                      7.575   \n",
      "4                      7.351                      7.475   \n",
      "\n",
      "   Economy (GDP per Capita)   Family  Health (Life Expectancy)  Freedom  \\\n",
      "0                   1.44178  1.16374                   0.79504  0.57941   \n",
      "1                   1.52733  1.14524                   0.86303  0.58557   \n",
      "2                   1.42666  1.18326                   0.86733  0.56624   \n",
      "3                   1.57744  1.12690                   0.79579  0.59609   \n",
      "4                   1.40598  1.13464                   0.81091  0.57104   \n",
      "\n",
      "   Trust (Government Corruption)  Generosity  Dystopia Residual  \n",
      "0                        0.44453     0.36171            2.73939  \n",
      "1                        0.41203     0.28083            2.69463  \n",
      "2                        0.14975     0.47678            2.83137  \n",
      "3                        0.35776     0.37895            2.66465  \n",
      "4                        0.41004     0.25492            2.82596  \n"
     ]
    },
    {
     "name": "stderr",
     "output_type": "stream",
     "text": [
      "C:\\Users\\43667\\AppData\\Local\\Temp\\ipykernel_7160\\3151497367.py:9: UserWarning: Could not infer format, so each element will be parsed individually, falling back to `dateutil`. To ensure parsing is consistent and as-expected, please specify a format.\n",
      "  df[col] = pd.to_datetime(df[col], errors='raise')\n",
      "C:\\Users\\43667\\AppData\\Local\\Temp\\ipykernel_7160\\3151497367.py:9: UserWarning: Could not infer format, so each element will be parsed individually, falling back to `dateutil`. To ensure parsing is consistent and as-expected, please specify a format.\n",
      "  df[col] = pd.to_datetime(df[col], errors='raise')\n"
     ]
    }
   ],
   "source": [
    "\n",
    "\n",
    "# Step 3: Convert columns to appropriate data types\n",
    "for col in df.columns:\n",
    "    # Try converting to numeric\n",
    "    df[col] = pd.to_numeric(df[col], errors='ignore')\n",
    "    \n",
    "    # If not numeric, try converting to datetime\n",
    "    if df[col].dtype == 'object':\n",
    "        try:\n",
    "            df[col] = pd.to_datetime(df[col], errors='raise')\n",
    "        except:\n",
    "            # If fails, keep as string\n",
    "            df[col] = df[col].astype('string')\n",
    "\n",
    "# Optional: Check the cleaned DataFrame\n",
    "print(df.info())\n",
    "print(df.head())\n"
   ]
  },
  {
   "cell_type": "code",
   "execution_count": 13,
   "id": "64272aa7-a7ff-4561-9e7c-f0bf8cf8b2d8",
   "metadata": {},
   "outputs": [
    {
     "name": "stdout",
     "output_type": "stream",
     "text": [
      "Columns with missing values: ['Lower Confidence Interval', 'Upper Confidence Interval', 'Economy (GDP per Capita)', 'Health (Life Expectancy)', 'Freedom']\n"
     ]
    }
   ],
   "source": [
    "#Identify the columns of a data frame with missing values.\n",
    "missing_columns = df.columns[df.isna().any()].tolist()\n",
    "print(\"Columns with missing values:\", missing_columns)"
   ]
  },
  {
   "cell_type": "code",
   "execution_count": 14,
   "id": "a594c7d0-6648-4bd7-9b4b-3786cc58316a",
   "metadata": {},
   "outputs": [
    {
     "name": "stdout",
     "output_type": "stream",
     "text": [
      "Lower Confidence Interval    4\n",
      "Upper Confidence Interval    3\n",
      "Economy (GDP per Capita)     2\n",
      "Health (Life Expectancy)     3\n",
      "Freedom                      1\n",
      "dtype: int64\n"
     ]
    }
   ],
   "source": [
    "missing_counts = df.isna().sum()\n",
    "print(missing_counts[missing_counts > 0])"
   ]
  },
  {
   "cell_type": "code",
   "execution_count": 15,
   "id": "2586ee91-ccf5-46d9-8a33-d234e6752f44",
   "metadata": {},
   "outputs": [],
   "source": [
    "for col in missing_columns:\n",
    "    if df[col].dtype in ['float64', 'int64']:\n",
    "        df[col].fillna(df[col].mean(), inplace=True)"
   ]
  },
  {
   "cell_type": "code",
   "execution_count": 17,
   "id": "54e1877e-6328-4901-bea0-9c5c5982ae5e",
   "metadata": {},
   "outputs": [
    {
     "name": "stdout",
     "output_type": "stream",
     "text": [
      "Country                          0\n",
      "Region                           0\n",
      "Happiness Rank                   0\n",
      "Happiness Score                  0\n",
      "Lower Confidence Interval        0\n",
      "Upper Confidence Interval        0\n",
      "Economy (GDP per Capita)         0\n",
      "Family                           0\n",
      "Health (Life Expectancy)         0\n",
      "Freedom                          0\n",
      "Trust (Government Corruption)    0\n",
      "Generosity                       0\n",
      "Dystopia Residual                0\n",
      "dtype: int64\n"
     ]
    }
   ],
   "source": [
    "print(df.isna().sum())"
   ]
  },
  {
   "cell_type": "markdown",
   "id": "132c0916-8b71-413b-a6e2-f3fc86145002",
   "metadata": {},
   "source": [
    "Write a python code that identifies the GDP per capita and Healthy Life Expectancy of the top 10 countries and create a bar chart named fig1 to show the GDP per capita and Healthy Life Expectancy of these top 10 countries using plotly."
   ]
  },
  {
   "cell_type": "code",
   "execution_count": 21,
   "id": "3789d628-d94b-46f5-93e3-34ce315985e7",
   "metadata": {},
   "outputs": [
    {
     "data": {
      "application/vnd.plotly.v1+json": {
       "config": {
        "plotlyServerURL": "https://plot.ly"
       },
       "data": [
        {
         "marker": {
          "color": "blue"
         },
         "name": "GDP per Capita",
         "type": "bar",
         "x": [
          "Qatar",
          "Luxembourg",
          "Singapore",
          "Kuwait",
          "Norway",
          "United Arab Emirates",
          "Switzerland",
          "Hong Kong",
          "United States",
          "Saudi Arabia"
         ],
         "y": {
          "_inputArray": {
           "0": 1.82427,
           "1": 1.69752,
           "2": 1.64555,
           "3": 1.61714,
           "4": 1.57744,
           "5": 1.57352,
           "6": 1.52733,
           "7": 1.5107,
           "8": 1.50796,
           "9": 1.48953,
           "bdata": "xy5RvTUw/T8M5US7Cin7P8DsnjwsVPo/5NpQMc7f+T+Tb7a5MT35P3ehuU4jLfk/5DEDlfFv+D9AE2HD0yv4P43ROqqaIPg/95LGaB3V9z8=",
           "dtype": "f8",
           "shape": "10"
          },
          "bdata": "xy5RvTUw/T8M5US7Cin7P8DsnjwsVPo/5NpQMc7f+T+Tb7a5MT35P3ehuU4jLfk/5DEDlfFv+D9AE2HD0yv4P43ROqqaIPg/95LGaB3V9z8=",
          "dtype": "f8"
         }
        },
        {
         "marker": {
          "color": "green"
         },
         "name": "Healthy Life Expectancy",
         "type": "bar",
         "x": [
          "Qatar",
          "Luxembourg",
          "Singapore",
          "Kuwait",
          "Norway",
          "United Arab Emirates",
          "Switzerland",
          "Hong Kong",
          "United States",
          "Saudi Arabia"
         ],
         "y": {
          "_inputArray": {
           "0": 0.71723,
           "1": 0.84542,
           "2": 0.94719,
           "3": 0.63569,
           "4": 0.79579,
           "5": 0.72993,
           "6": 0.86303,
           "7": 0.95277,
           "8": 0.5533422727272727,
           "9": 0.59267,
           "bdata": "+rg2VIzz5j9ZTGw+rg3rP8gkI2dhT+4/nZ0MjpJX5D+eew+XHHfpPyTRyyiWW+c/rvAuF/Gd6z93hNOCF33uP1F0m9r6tOE/EEBqEyf34j8=",
           "dtype": "f8",
           "shape": "10"
          },
          "bdata": "+rg2VIzz5j9ZTGw+rg3rP8gkI2dhT+4/nZ0MjpJX5D+eew+XHHfpPyTRyyiWW+c/rvAuF/Gd6z93hNOCF33uP1F0m9r6tOE/EEBqEyf34j8=",
          "dtype": "f8"
         }
        }
       ],
       "layout": {
        "autosize": true,
        "barmode": "group",
        "template": {
         "data": {
          "bar": [
           {
            "error_x": {
             "color": "#2a3f5f"
            },
            "error_y": {
             "color": "#2a3f5f"
            },
            "marker": {
             "line": {
              "color": "#E5ECF6",
              "width": 0.5
             },
             "pattern": {
              "fillmode": "overlay",
              "size": 10,
              "solidity": 0.2
             }
            },
            "type": "bar"
           }
          ],
          "barpolar": [
           {
            "marker": {
             "line": {
              "color": "#E5ECF6",
              "width": 0.5
             },
             "pattern": {
              "fillmode": "overlay",
              "size": 10,
              "solidity": 0.2
             }
            },
            "type": "barpolar"
           }
          ],
          "carpet": [
           {
            "aaxis": {
             "endlinecolor": "#2a3f5f",
             "gridcolor": "white",
             "linecolor": "white",
             "minorgridcolor": "white",
             "startlinecolor": "#2a3f5f"
            },
            "baxis": {
             "endlinecolor": "#2a3f5f",
             "gridcolor": "white",
             "linecolor": "white",
             "minorgridcolor": "white",
             "startlinecolor": "#2a3f5f"
            },
            "type": "carpet"
           }
          ],
          "choropleth": [
           {
            "colorbar": {
             "outlinewidth": 0,
             "ticks": ""
            },
            "type": "choropleth"
           }
          ],
          "contour": [
           {
            "colorbar": {
             "outlinewidth": 0,
             "ticks": ""
            },
            "colorscale": [
             [
              0,
              "#0d0887"
             ],
             [
              0.1111111111111111,
              "#46039f"
             ],
             [
              0.2222222222222222,
              "#7201a8"
             ],
             [
              0.3333333333333333,
              "#9c179e"
             ],
             [
              0.4444444444444444,
              "#bd3786"
             ],
             [
              0.5555555555555556,
              "#d8576b"
             ],
             [
              0.6666666666666666,
              "#ed7953"
             ],
             [
              0.7777777777777778,
              "#fb9f3a"
             ],
             [
              0.8888888888888888,
              "#fdca26"
             ],
             [
              1,
              "#f0f921"
             ]
            ],
            "type": "contour"
           }
          ],
          "contourcarpet": [
           {
            "colorbar": {
             "outlinewidth": 0,
             "ticks": ""
            },
            "type": "contourcarpet"
           }
          ],
          "heatmap": [
           {
            "colorbar": {
             "outlinewidth": 0,
             "ticks": ""
            },
            "colorscale": [
             [
              0,
              "#0d0887"
             ],
             [
              0.1111111111111111,
              "#46039f"
             ],
             [
              0.2222222222222222,
              "#7201a8"
             ],
             [
              0.3333333333333333,
              "#9c179e"
             ],
             [
              0.4444444444444444,
              "#bd3786"
             ],
             [
              0.5555555555555556,
              "#d8576b"
             ],
             [
              0.6666666666666666,
              "#ed7953"
             ],
             [
              0.7777777777777778,
              "#fb9f3a"
             ],
             [
              0.8888888888888888,
              "#fdca26"
             ],
             [
              1,
              "#f0f921"
             ]
            ],
            "type": "heatmap"
           }
          ],
          "histogram": [
           {
            "marker": {
             "pattern": {
              "fillmode": "overlay",
              "size": 10,
              "solidity": 0.2
             }
            },
            "type": "histogram"
           }
          ],
          "histogram2d": [
           {
            "colorbar": {
             "outlinewidth": 0,
             "ticks": ""
            },
            "colorscale": [
             [
              0,
              "#0d0887"
             ],
             [
              0.1111111111111111,
              "#46039f"
             ],
             [
              0.2222222222222222,
              "#7201a8"
             ],
             [
              0.3333333333333333,
              "#9c179e"
             ],
             [
              0.4444444444444444,
              "#bd3786"
             ],
             [
              0.5555555555555556,
              "#d8576b"
             ],
             [
              0.6666666666666666,
              "#ed7953"
             ],
             [
              0.7777777777777778,
              "#fb9f3a"
             ],
             [
              0.8888888888888888,
              "#fdca26"
             ],
             [
              1,
              "#f0f921"
             ]
            ],
            "type": "histogram2d"
           }
          ],
          "histogram2dcontour": [
           {
            "colorbar": {
             "outlinewidth": 0,
             "ticks": ""
            },
            "colorscale": [
             [
              0,
              "#0d0887"
             ],
             [
              0.1111111111111111,
              "#46039f"
             ],
             [
              0.2222222222222222,
              "#7201a8"
             ],
             [
              0.3333333333333333,
              "#9c179e"
             ],
             [
              0.4444444444444444,
              "#bd3786"
             ],
             [
              0.5555555555555556,
              "#d8576b"
             ],
             [
              0.6666666666666666,
              "#ed7953"
             ],
             [
              0.7777777777777778,
              "#fb9f3a"
             ],
             [
              0.8888888888888888,
              "#fdca26"
             ],
             [
              1,
              "#f0f921"
             ]
            ],
            "type": "histogram2dcontour"
           }
          ],
          "mesh3d": [
           {
            "colorbar": {
             "outlinewidth": 0,
             "ticks": ""
            },
            "type": "mesh3d"
           }
          ],
          "parcoords": [
           {
            "line": {
             "colorbar": {
              "outlinewidth": 0,
              "ticks": ""
             }
            },
            "type": "parcoords"
           }
          ],
          "pie": [
           {
            "automargin": true,
            "type": "pie"
           }
          ],
          "scatter": [
           {
            "fillpattern": {
             "fillmode": "overlay",
             "size": 10,
             "solidity": 0.2
            },
            "type": "scatter"
           }
          ],
          "scatter3d": [
           {
            "line": {
             "colorbar": {
              "outlinewidth": 0,
              "ticks": ""
             }
            },
            "marker": {
             "colorbar": {
              "outlinewidth": 0,
              "ticks": ""
             }
            },
            "type": "scatter3d"
           }
          ],
          "scattercarpet": [
           {
            "marker": {
             "colorbar": {
              "outlinewidth": 0,
              "ticks": ""
             }
            },
            "type": "scattercarpet"
           }
          ],
          "scattergeo": [
           {
            "marker": {
             "colorbar": {
              "outlinewidth": 0,
              "ticks": ""
             }
            },
            "type": "scattergeo"
           }
          ],
          "scattergl": [
           {
            "marker": {
             "colorbar": {
              "outlinewidth": 0,
              "ticks": ""
             }
            },
            "type": "scattergl"
           }
          ],
          "scattermap": [
           {
            "marker": {
             "colorbar": {
              "outlinewidth": 0,
              "ticks": ""
             }
            },
            "type": "scattermap"
           }
          ],
          "scattermapbox": [
           {
            "marker": {
             "colorbar": {
              "outlinewidth": 0,
              "ticks": ""
             }
            },
            "type": "scattermapbox"
           }
          ],
          "scatterpolar": [
           {
            "marker": {
             "colorbar": {
              "outlinewidth": 0,
              "ticks": ""
             }
            },
            "type": "scatterpolar"
           }
          ],
          "scatterpolargl": [
           {
            "marker": {
             "colorbar": {
              "outlinewidth": 0,
              "ticks": ""
             }
            },
            "type": "scatterpolargl"
           }
          ],
          "scatterternary": [
           {
            "marker": {
             "colorbar": {
              "outlinewidth": 0,
              "ticks": ""
             }
            },
            "type": "scatterternary"
           }
          ],
          "surface": [
           {
            "colorbar": {
             "outlinewidth": 0,
             "ticks": ""
            },
            "colorscale": [
             [
              0,
              "#0d0887"
             ],
             [
              0.1111111111111111,
              "#46039f"
             ],
             [
              0.2222222222222222,
              "#7201a8"
             ],
             [
              0.3333333333333333,
              "#9c179e"
             ],
             [
              0.4444444444444444,
              "#bd3786"
             ],
             [
              0.5555555555555556,
              "#d8576b"
             ],
             [
              0.6666666666666666,
              "#ed7953"
             ],
             [
              0.7777777777777778,
              "#fb9f3a"
             ],
             [
              0.8888888888888888,
              "#fdca26"
             ],
             [
              1,
              "#f0f921"
             ]
            ],
            "type": "surface"
           }
          ],
          "table": [
           {
            "cells": {
             "fill": {
              "color": "#EBF0F8"
             },
             "line": {
              "color": "white"
             }
            },
            "header": {
             "fill": {
              "color": "#C8D4E3"
             },
             "line": {
              "color": "white"
             }
            },
            "type": "table"
           }
          ]
         },
         "layout": {
          "annotationdefaults": {
           "arrowcolor": "#2a3f5f",
           "arrowhead": 0,
           "arrowwidth": 1
          },
          "autotypenumbers": "strict",
          "coloraxis": {
           "colorbar": {
            "outlinewidth": 0,
            "ticks": ""
           }
          },
          "colorscale": {
           "diverging": [
            [
             0,
             "#8e0152"
            ],
            [
             0.1,
             "#c51b7d"
            ],
            [
             0.2,
             "#de77ae"
            ],
            [
             0.3,
             "#f1b6da"
            ],
            [
             0.4,
             "#fde0ef"
            ],
            [
             0.5,
             "#f7f7f7"
            ],
            [
             0.6,
             "#e6f5d0"
            ],
            [
             0.7,
             "#b8e186"
            ],
            [
             0.8,
             "#7fbc41"
            ],
            [
             0.9,
             "#4d9221"
            ],
            [
             1,
             "#276419"
            ]
           ],
           "sequential": [
            [
             0,
             "#0d0887"
            ],
            [
             0.1111111111111111,
             "#46039f"
            ],
            [
             0.2222222222222222,
             "#7201a8"
            ],
            [
             0.3333333333333333,
             "#9c179e"
            ],
            [
             0.4444444444444444,
             "#bd3786"
            ],
            [
             0.5555555555555556,
             "#d8576b"
            ],
            [
             0.6666666666666666,
             "#ed7953"
            ],
            [
             0.7777777777777778,
             "#fb9f3a"
            ],
            [
             0.8888888888888888,
             "#fdca26"
            ],
            [
             1,
             "#f0f921"
            ]
           ],
           "sequentialminus": [
            [
             0,
             "#0d0887"
            ],
            [
             0.1111111111111111,
             "#46039f"
            ],
            [
             0.2222222222222222,
             "#7201a8"
            ],
            [
             0.3333333333333333,
             "#9c179e"
            ],
            [
             0.4444444444444444,
             "#bd3786"
            ],
            [
             0.5555555555555556,
             "#d8576b"
            ],
            [
             0.6666666666666666,
             "#ed7953"
            ],
            [
             0.7777777777777778,
             "#fb9f3a"
            ],
            [
             0.8888888888888888,
             "#fdca26"
            ],
            [
             1,
             "#f0f921"
            ]
           ]
          },
          "colorway": [
           "#636efa",
           "#EF553B",
           "#00cc96",
           "#ab63fa",
           "#FFA15A",
           "#19d3f3",
           "#FF6692",
           "#B6E880",
           "#FF97FF",
           "#FECB52"
          ],
          "font": {
           "color": "#2a3f5f"
          },
          "geo": {
           "bgcolor": "white",
           "lakecolor": "white",
           "landcolor": "#E5ECF6",
           "showlakes": true,
           "showland": true,
           "subunitcolor": "white"
          },
          "hoverlabel": {
           "align": "left"
          },
          "hovermode": "closest",
          "mapbox": {
           "style": "light"
          },
          "paper_bgcolor": "white",
          "plot_bgcolor": "#E5ECF6",
          "polar": {
           "angularaxis": {
            "gridcolor": "white",
            "linecolor": "white",
            "ticks": ""
           },
           "bgcolor": "#E5ECF6",
           "radialaxis": {
            "gridcolor": "white",
            "linecolor": "white",
            "ticks": ""
           }
          },
          "scene": {
           "xaxis": {
            "backgroundcolor": "#E5ECF6",
            "gridcolor": "white",
            "gridwidth": 2,
            "linecolor": "white",
            "showbackground": true,
            "ticks": "",
            "zerolinecolor": "white"
           },
           "yaxis": {
            "backgroundcolor": "#E5ECF6",
            "gridcolor": "white",
            "gridwidth": 2,
            "linecolor": "white",
            "showbackground": true,
            "ticks": "",
            "zerolinecolor": "white"
           },
           "zaxis": {
            "backgroundcolor": "#E5ECF6",
            "gridcolor": "white",
            "gridwidth": 2,
            "linecolor": "white",
            "showbackground": true,
            "ticks": "",
            "zerolinecolor": "white"
           }
          },
          "shapedefaults": {
           "line": {
            "color": "#2a3f5f"
           }
          },
          "ternary": {
           "aaxis": {
            "gridcolor": "white",
            "linecolor": "white",
            "ticks": ""
           },
           "baxis": {
            "gridcolor": "white",
            "linecolor": "white",
            "ticks": ""
           },
           "bgcolor": "#E5ECF6",
           "caxis": {
            "gridcolor": "white",
            "linecolor": "white",
            "ticks": ""
           }
          },
          "title": {
           "x": 0.05
          },
          "xaxis": {
           "automargin": true,
           "gridcolor": "white",
           "linecolor": "white",
           "ticks": "",
           "title": {
            "standoff": 15
           },
           "zerolinecolor": "white",
           "zerolinewidth": 2
          },
          "yaxis": {
           "automargin": true,
           "gridcolor": "white",
           "linecolor": "white",
           "ticks": "",
           "title": {
            "standoff": 15
           },
           "zerolinecolor": "white",
           "zerolinewidth": 2
          }
         }
        },
        "title": {
         "text": "Top 10 Countries: GDP per Capita vs Healthy Life Expectancy (2016)"
        },
        "xaxis": {
         "autorange": true,
         "range": [
          -0.5,
          9.5
         ],
         "title": {
          "text": "Country"
         },
         "type": "category"
        },
        "yaxis": {
         "autorange": true,
         "range": [
          0,
          1.9202842105263158
         ],
         "title": {
          "text": "Values"
         },
         "type": "linear"
        }
       }
      },
      "image/png": "[encoded data removed]"
     },
     "metadata": {},
     "output_type": "display_data"
    }
   ],
   "source": [
    "import plotly.graph_objects as go\n",
    "# Ensure numeric columns are correct type\n",
    "df['GDP per capita'] = pd.to_numeric(df['Economy (GDP per Capita)'], errors='coerce')\n",
    "df['Healthy life expectancy'] = pd.to_numeric(df['Health (Life Expectancy)'], errors='coerce')\n",
    "\n",
    "# Drop rows with missing GDP per capita or Healthy life expectancy\n",
    "df_clean = df.dropna(subset=['GDP per capita', 'Healthy life expectancy'])\n",
    "\n",
    "# Identify top 10 countries by GDP per capita\n",
    "top10 = df_clean.sort_values(by='GDP per capita', ascending=False).head(10)\n",
    "\n",
    "# Create a bar chart using Plotly\n",
    "fig1 = go.Figure()\n",
    "\n",
    "# GDP per capita bars\n",
    "fig1.add_trace(go.Bar(\n",
    "    x=top10['Country'],\n",
    "    y=top10['GDP per capita'],\n",
    "    name='GDP per Capita',\n",
    "    marker_color='blue'\n",
    "))\n",
    "\n",
    "# Healthy Life Expectancy bars\n",
    "fig1.add_trace(go.Bar(\n",
    "    x=top10['Country'],\n",
    "    y=top10['Healthy life expectancy'],\n",
    "    name='Healthy Life Expectancy',\n",
    "    marker_color='green'\n",
    "))\n",
    "\n",
    "# Update layout\n",
    "fig1.update_layout(\n",
    "    title='Top 10 Countries: GDP per Capita vs Healthy Life Expectancy (2016)',\n",
    "    xaxis_title='Country',\n",
    "    yaxis_title='Values',\n",
    "    barmode='group'\n",
    ")\n",
    "\n",
    "# Show the figure\n",
    "fig1.show()\n"
   ]
  },
  {
   "cell_type": "markdown",
   "id": "4fc57f21-3073-4c46-803f-264bb59ab524",
   "metadata": {},
   "source": [
    "Write a python code that performs the following actions:\n",
    "  -  1. Create a sub-dataset including Economy (GDP per Capita), Family, Health (Life Expectancy), Freedom, Trust (Government Corruption), Generosity, and Happiness Score attributes from the dataframe (df).\n",
    "  -  2. Find the correlation between the attributes in the subdataset as a heatmap named fig2 using Plotly of width 800 and height 600."
   ]
  },
  {
   "cell_type": "code",
   "execution_count": 22,
   "id": "f92d1908-fc54-4379-92f5-2c41159ceee9",
   "metadata": {},
   "outputs": [
    {
     "name": "stdout",
     "output_type": "stream",
     "text": [
      "   Economy (GDP per Capita)   Family  Health (Life Expectancy)  Freedom  \\\n",
      "0                   1.44178  1.16374                   0.79504  0.57941   \n",
      "1                   1.52733  1.14524                   0.86303  0.58557   \n",
      "2                   1.42666  1.18326                   0.86733  0.56624   \n",
      "3                   1.57744  1.12690                   0.79579  0.59609   \n",
      "4                   1.40598  1.13464                   0.81091  0.57104   \n",
      "\n",
      "   Trust (Government Corruption)  Generosity  Happiness Score  \n",
      "0                        0.44453     0.36171            7.526  \n",
      "1                        0.41203     0.28083            7.509  \n",
      "2                        0.14975     0.47678            7.501  \n",
      "3                        0.35776     0.37895            7.498  \n",
      "4                        0.41004     0.25492            7.413  \n"
     ]
    }
   ],
   "source": [
    "columns_to_select = [\n",
    "    'Economy (GDP per Capita)',\n",
    "    'Family',\n",
    "    'Health (Life Expectancy)',\n",
    "    'Freedom',\n",
    "    'Trust (Government Corruption)',\n",
    "    'Generosity',\n",
    "    'Happiness Score'\n",
    "]\n",
    "\n",
    "sub_df = df[columns_to_select]\n",
    "\n",
    "# Optional: Display the first few rows of the sub-dataset\n",
    "print(sub_df.head())"
   ]
  },
  {
   "cell_type": "code",
   "execution_count": 24,
   "id": "f63fabf5-6d06-4132-906d-103c34850b4b",
   "metadata": {},
   "outputs": [
    {
     "data": {
      "application/vnd.plotly.v1+json": {
       "config": {
        "plotlyServerURL": "https://plot.ly"
       },
       "data": [
        {
         "coloraxis": "coloraxis",
         "hovertemplate": "x: %{x}<br>y: %{y}<br>color: %{z}<extra></extra>",
         "name": "0",
         "texttemplate": "%{z}",
         "type": "heatmap",
         "x": [
          "Economy (GDP per Capita)",
          "Family",
          "Health (Life Expectancy)",
          "Freedom",
          "Trust (Government Corruption)",
          "Generosity",
          "Happiness Score"
         ],
         "xaxis": "x",
         "y": [
          "Economy (GDP per Capita)",
          "Family",
          "Health (Life Expectancy)",
          "Freedom",
          "Trust (Government Corruption)",
          "Generosity",
          "Happiness Score"
         ],
         "yaxis": "y",
         "z": {
          "_inputArray": [
           {
            "0": 1,
            "1": 0.668984301734623,
            "2": 0.8256985541456067,
            "3": 0.3609980770935007,
            "4": 0.2860688986698786,
            "5": -0.022071846978839856,
            "6": 0.7896246889690565
           },
           {
            "0": 0.668984301734623,
            "1": 1,
            "2": 0.5861632619081772,
            "3": 0.4501942184858681,
            "4": 0.21356093757197225,
            "5": 0.08962885297244037,
            "6": 0.7392515774070013
           },
           {
            "0": 0.8256985541456067,
            "1": 0.5861632619081772,
            "2": 1,
            "3": 0.34802785316320745,
            "4": 0.26192787474087614,
            "5": 0.06976012664052986,
            "6": 0.7594712524031421
           },
           {
            "0": 0.3609980770935007,
            "1": 0.4501942184858681,
            "2": 0.34802785316320745,
            "3": 1,
            "4": 0.502030463367597,
            "5": 0.3617916252586865,
            "6": 0.5668067435905342
           },
           {
            "0": 0.2860688986698786,
            "1": 0.21356093757197225,
            "2": 0.26192787474087614,
            "3": 0.502030463367597,
            "4": 1,
            "5": 0.30592986119121796,
            "6": 0.40203224514729247
           },
           {
            "0": -0.022071846978839856,
            "1": 0.08962885297244037,
            "2": 0.06976012664052986,
            "3": 0.3617916252586865,
            "4": 0.30592986119121796,
            "5": 1,
            "6": 0.15684779640360774
           },
           {
            "0": 0.7896246889690565,
            "1": 0.7392515774070013,
            "2": 0.7594712524031421,
            "3": 0.5668067435905342,
            "4": 0.40203224514729247,
            "5": 0.15684779640360774,
            "6": 1
           }
          ],
          "bdata": "AAAAAAAA8D9vmi/EUWjlP58dzV8fbOo/LUXCrZca1z/GJgzt807SP3LovpMAmpa/hY/n/ppE6T9vmi/EUWjlPwAAAAAAAPA/y2QAddnB4j9tr09p+8/cP2CQSf32Vcs/d2xLoOrxtj/tV4/s8qfnP58dzV8fbOo/y2QAddnB4j8AAAAAAADwP1u3250WRtY/7w/7IW3D0D+OY3y2zNuxP2Vb6qeWTeg/LUXCrZca1z9tr09p+8/cP1u3250WRtY/AAAAAAAA8D9HTrgwohDgP8v5nA+YJ9c/jPRb5Ucj4j/GJgzt807SP2CQSf32Vcs/7w/7IW3D0D9HTrgwohDgPwAAAAAAAPA/E+kr11qU0z+5FTZ05brZP3LovpMAmpa/d2xLoOrxtj+OY3y2zNuxP8v5nA+YJ9c/E+kr11qU0z8AAAAAAADwP5pnAK6WE8Q/hY/n/ppE6T/tV4/s8qfnP2Vb6qeWTeg/jPRb5Ucj4j+5FTZ05brZP5pnAK6WE8Q/AAAAAAAA8D8=",
          "dtype": "f8",
          "shape": "7, 7"
         }
        }
       ],
       "layout": {
        "coloraxis": {
         "colorscale": [
          [
           0,
           "rgb(5,48,97)"
          ],
          [
           0.1,
           "rgb(33,102,172)"
          ],
          [
           0.2,
           "rgb(67,147,195)"
          ],
          [
           0.3,
           "rgb(146,197,222)"
          ],
          [
           0.4,
           "rgb(209,229,240)"
          ],
          [
           0.5,
           "rgb(247,247,247)"
          ],
          [
           0.6,
           "rgb(253,219,199)"
          ],
          [
           0.7,
           "rgb(244,165,130)"
          ],
          [
           0.8,
           "rgb(214,96,77)"
          ],
          [
           0.9,
           "rgb(178,24,43)"
          ],
          [
           1,
           "rgb(103,0,31)"
          ]
         ]
        },
        "height": 600,
        "template": {
         "data": {
          "bar": [
           {
            "error_x": {
             "color": "#2a3f5f"
            },
            "error_y": {
             "color": "#2a3f5f"
            },
            "marker": {
             "line": {
              "color": "#E5ECF6",
              "width": 0.5
             },
             "pattern": {
              "fillmode": "overlay",
              "size": 10,
              "solidity": 0.2
             }
            },
            "type": "bar"
           }
          ],
          "barpolar": [
           {
            "marker": {
             "line": {
              "color": "#E5ECF6",
              "width": 0.5
             },
             "pattern": {
              "fillmode": "overlay",
              "size": 10,
              "solidity": 0.2
             }
            },
            "type": "barpolar"
           }
          ],
          "carpet": [
           {
            "aaxis": {
             "endlinecolor": "#2a3f5f",
             "gridcolor": "white",
             "linecolor": "white",
             "minorgridcolor": "white",
             "startlinecolor": "#2a3f5f"
            },
            "baxis": {
             "endlinecolor": "#2a3f5f",
             "gridcolor": "white",
             "linecolor": "white",
             "minorgridcolor": "white",
             "startlinecolor": "#2a3f5f"
            },
            "type": "carpet"
           }
          ],
          "choropleth": [
           {
            "colorbar": {
             "outlinewidth": 0,
             "ticks": ""
            },
            "type": "choropleth"
           }
          ],
          "contour": [
           {
            "colorbar": {
             "outlinewidth": 0,
             "ticks": ""
            },
            "colorscale": [
             [
              0,
              "#0d0887"
             ],
             [
              0.1111111111111111,
              "#46039f"
             ],
             [
              0.2222222222222222,
              "#7201a8"
             ],
             [
              0.3333333333333333,
              "#9c179e"
             ],
             [
              0.4444444444444444,
              "#bd3786"
             ],
             [
              0.5555555555555556,
              "#d8576b"
             ],
             [
              0.6666666666666666,
              "#ed7953"
             ],
             [
              0.7777777777777778,
              "#fb9f3a"
             ],
             [
              0.8888888888888888,
              "#fdca26"
             ],
             [
              1,
              "#f0f921"
             ]
            ],
            "type": "contour"
           }
          ],
          "contourcarpet": [
           {
            "colorbar": {
             "outlinewidth": 0,
             "ticks": ""
            },
            "type": "contourcarpet"
           }
          ],
          "heatmap": [
           {
            "colorbar": {
             "outlinewidth": 0,
             "ticks": ""
            },
            "colorscale": [
             [
              0,
              "#0d0887"
             ],
             [
              0.1111111111111111,
              "#46039f"
             ],
             [
              0.2222222222222222,
              "#7201a8"
             ],
             [
              0.3333333333333333,
              "#9c179e"
             ],
             [
              0.4444444444444444,
              "#bd3786"
             ],
             [
              0.5555555555555556,
              "#d8576b"
             ],
             [
              0.6666666666666666,
              "#ed7953"
             ],
             [
              0.7777777777777778,
              "#fb9f3a"
             ],
             [
              0.8888888888888888,
              "#fdca26"
             ],
             [
              1,
              "#f0f921"
             ]
            ],
            "type": "heatmap"
           }
          ],
          "histogram": [
           {
            "marker": {
             "pattern": {
              "fillmode": "overlay",
              "size": 10,
              "solidity": 0.2
             }
            },
            "type": "histogram"
           }
          ],
          "histogram2d": [
           {
            "colorbar": {
             "outlinewidth": 0,
             "ticks": ""
            },
            "colorscale": [
             [
              0,
              "#0d0887"
             ],
             [
              0.1111111111111111,
              "#46039f"
             ],
             [
              0.2222222222222222,
              "#7201a8"
             ],
             [
              0.3333333333333333,
              "#9c179e"
             ],
             [
              0.4444444444444444,
              "#bd3786"
             ],
             [
              0.5555555555555556,
              "#d8576b"
             ],
             [
              0.6666666666666666,
              "#ed7953"
             ],
             [
              0.7777777777777778,
              "#fb9f3a"
             ],
             [
              0.8888888888888888,
              "#fdca26"
             ],
             [
              1,
              "#f0f921"
             ]
            ],
            "type": "histogram2d"
           }
          ],
          "histogram2dcontour": [
           {
            "colorbar": {
             "outlinewidth": 0,
             "ticks": ""
            },
            "colorscale": [
             [
              0,
              "#0d0887"
             ],
             [
              0.1111111111111111,
              "#46039f"
             ],
             [
              0.2222222222222222,
              "#7201a8"
             ],
             [
              0.3333333333333333,
              "#9c179e"
             ],
             [
              0.4444444444444444,
              "#bd3786"
             ],
             [
              0.5555555555555556,
              "#d8576b"
             ],
             [
              0.6666666666666666,
              "#ed7953"
             ],
             [
              0.7777777777777778,
              "#fb9f3a"
             ],
             [
              0.8888888888888888,
              "#fdca26"
             ],
             [
              1,
              "#f0f921"
             ]
            ],
            "type": "histogram2dcontour"
           }
          ],
          "mesh3d": [
           {
            "colorbar": {
             "outlinewidth": 0,
             "ticks": ""
            },
            "type": "mesh3d"
           }
          ],
          "parcoords": [
           {
            "line": {
             "colorbar": {
              "outlinewidth": 0,
              "ticks": ""
             }
            },
            "type": "parcoords"
           }
          ],
          "pie": [
           {
            "automargin": true,
            "type": "pie"
           }
          ],
          "scatter": [
           {
            "fillpattern": {
             "fillmode": "overlay",
             "size": 10,
             "solidity": 0.2
            },
            "type": "scatter"
           }
          ],
          "scatter3d": [
           {
            "line": {
             "colorbar": {
              "outlinewidth": 0,
              "ticks": ""
             }
            },
            "marker": {
             "colorbar": {
              "outlinewidth": 0,
              "ticks": ""
             }
            },
            "type": "scatter3d"
           }
          ],
          "scattercarpet": [
           {
            "marker": {
             "colorbar": {
              "outlinewidth": 0,
              "ticks": ""
             }
            },
            "type": "scattercarpet"
           }
          ],
          "scattergeo": [
           {
            "marker": {
             "colorbar": {
              "outlinewidth": 0,
              "ticks": ""
             }
            },
            "type": "scattergeo"
           }
          ],
          "scattergl": [
           {
            "marker": {
             "colorbar": {
              "outlinewidth": 0,
              "ticks": ""
             }
            },
            "type": "scattergl"
           }
          ],
          "scattermap": [
           {
            "marker": {
             "colorbar": {
              "outlinewidth": 0,
              "ticks": ""
             }
            },
            "type": "scattermap"
           }
          ],
          "scattermapbox": [
           {
            "marker": {
             "colorbar": {
              "outlinewidth": 0,
              "ticks": ""
             }
            },
            "type": "scattermapbox"
           }
          ],
          "scatterpolar": [
           {
            "marker": {
             "colorbar": {
              "outlinewidth": 0,
              "ticks": ""
             }
            },
            "type": "scatterpolar"
           }
          ],
          "scatterpolargl": [
           {
            "marker": {
             "colorbar": {
              "outlinewidth": 0,
              "ticks": ""
             }
            },
            "type": "scatterpolargl"
           }
          ],
          "scatterternary": [
           {
            "marker": {
             "colorbar": {
              "outlinewidth": 0,
              "ticks": ""
             }
            },
            "type": "scatterternary"
           }
          ],
          "surface": [
           {
            "colorbar": {
             "outlinewidth": 0,
             "ticks": ""
            },
            "colorscale": [
             [
              0,
              "#0d0887"
             ],
             [
              0.1111111111111111,
              "#46039f"
             ],
             [
              0.2222222222222222,
              "#7201a8"
             ],
             [
              0.3333333333333333,
              "#9c179e"
             ],
             [
              0.4444444444444444,
              "#bd3786"
             ],
             [
              0.5555555555555556,
              "#d8576b"
             ],
             [
              0.6666666666666666,
              "#ed7953"
             ],
             [
              0.7777777777777778,
              "#fb9f3a"
             ],
             [
              0.8888888888888888,
              "#fdca26"
             ],
             [
              1,
              "#f0f921"
             ]
            ],
            "type": "surface"
           }
          ],
          "table": [
           {
            "cells": {
             "fill": {
              "color": "#EBF0F8"
             },
             "line": {
              "color": "white"
             }
            },
            "header": {
             "fill": {
              "color": "#C8D4E3"
             },
             "line": {
              "color": "white"
             }
            },
            "type": "table"
           }
          ]
         },
         "layout": {
          "annotationdefaults": {
           "arrowcolor": "#2a3f5f",
           "arrowhead": 0,
           "arrowwidth": 1
          },
          "autotypenumbers": "strict",
          "coloraxis": {
           "colorbar": {
            "outlinewidth": 0,
            "ticks": ""
           }
          },
          "colorscale": {
           "diverging": [
            [
             0,
             "#8e0152"
            ],
            [
             0.1,
             "#c51b7d"
            ],
            [
             0.2,
             "#de77ae"
            ],
            [
             0.3,
             "#f1b6da"
            ],
            [
             0.4,
             "#fde0ef"
            ],
            [
             0.5,
             "#f7f7f7"
            ],
            [
             0.6,
             "#e6f5d0"
            ],
            [
             0.7,
             "#b8e186"
            ],
            [
             0.8,
             "#7fbc41"
            ],
            [
             0.9,
             "#4d9221"
            ],
            [
             1,
             "#276419"
            ]
           ],
           "sequential": [
            [
             0,
             "#0d0887"
            ],
            [
             0.1111111111111111,
             "#46039f"
            ],
            [
             0.2222222222222222,
             "#7201a8"
            ],
            [
             0.3333333333333333,
             "#9c179e"
            ],
            [
             0.4444444444444444,
             "#bd3786"
            ],
            [
             0.5555555555555556,
             "#d8576b"
            ],
            [
             0.6666666666666666,
             "#ed7953"
            ],
            [
             0.7777777777777778,
             "#fb9f3a"
            ],
            [
             0.8888888888888888,
             "#fdca26"
            ],
            [
             1,
             "#f0f921"
            ]
           ],
           "sequentialminus": [
            [
             0,
             "#0d0887"
            ],
            [
             0.1111111111111111,
             "#46039f"
            ],
            [
             0.2222222222222222,
             "#7201a8"
            ],
            [
             0.3333333333333333,
             "#9c179e"
            ],
            [
             0.4444444444444444,
             "#bd3786"
            ],
            [
             0.5555555555555556,
             "#d8576b"
            ],
            [
             0.6666666666666666,
             "#ed7953"
            ],
            [
             0.7777777777777778,
             "#fb9f3a"
            ],
            [
             0.8888888888888888,
             "#fdca26"
            ],
            [
             1,
             "#f0f921"
            ]
           ]
          },
          "colorway": [
           "#636efa",
           "#EF553B",
           "#00cc96",
           "#ab63fa",
           "#FFA15A",
           "#19d3f3",
           "#FF6692",
           "#B6E880",
           "#FF97FF",
           "#FECB52"
          ],
          "font": {
           "color": "#2a3f5f"
          },
          "geo": {
           "bgcolor": "white",
           "lakecolor": "white",
           "landcolor": "#E5ECF6",
           "showlakes": true,
           "showland": true,
           "subunitcolor": "white"
          },
          "hoverlabel": {
           "align": "left"
          },
          "hovermode": "closest",
          "mapbox": {
           "style": "light"
          },
          "paper_bgcolor": "white",
          "plot_bgcolor": "#E5ECF6",
          "polar": {
           "angularaxis": {
            "gridcolor": "white",
            "linecolor": "white",
            "ticks": ""
           },
           "bgcolor": "#E5ECF6",
           "radialaxis": {
            "gridcolor": "white",
            "linecolor": "white",
            "ticks": ""
           }
          },
          "scene": {
           "xaxis": {
            "backgroundcolor": "#E5ECF6",
            "gridcolor": "white",
            "gridwidth": 2,
            "linecolor": "white",
            "showbackground": true,
            "ticks": "",
            "zerolinecolor": "white"
           },
           "yaxis": {
            "backgroundcolor": "#E5ECF6",
            "gridcolor": "white",
            "gridwidth": 2,
            "linecolor": "white",
            "showbackground": true,
            "ticks": "",
            "zerolinecolor": "white"
           },
           "zaxis": {
            "backgroundcolor": "#E5ECF6",
            "gridcolor": "white",
            "gridwidth": 2,
            "linecolor": "white",
            "showbackground": true,
            "ticks": "",
            "zerolinecolor": "white"
           }
          },
          "shapedefaults": {
           "line": {
            "color": "#2a3f5f"
           }
          },
          "ternary": {
           "aaxis": {
            "gridcolor": "white",
            "linecolor": "white",
            "ticks": ""
           },
           "baxis": {
            "gridcolor": "white",
            "linecolor": "white",
            "ticks": ""
           },
           "bgcolor": "#E5ECF6",
           "caxis": {
            "gridcolor": "white",
            "linecolor": "white",
            "ticks": ""
           }
          },
          "title": {
           "x": 0.05
          },
          "xaxis": {
           "automargin": true,
           "gridcolor": "white",
           "linecolor": "white",
           "ticks": "",
           "title": {
            "standoff": 15
           },
           "zerolinecolor": "white",
           "zerolinewidth": 2
          },
          "yaxis": {
           "automargin": true,
           "gridcolor": "white",
           "linecolor": "white",
           "ticks": "",
           "title": {
            "standoff": 15
           },
           "zerolinecolor": "white",
           "zerolinewidth": 2
          }
         }
        },
        "title": {
         "text": "Correlation Heatmap of Happiness Attributes"
        },
        "width": 800,
        "xaxis": {
         "anchor": "y",
         "autorange": true,
         "constrain": "domain",
         "domain": [
          0.19680000000000003,
          0.8031999999999999
         ],
         "range": [
          -0.5,
          6.5
         ],
         "scaleanchor": "y",
         "type": "category"
        },
        "yaxis": {
         "anchor": "x",
         "autorange": true,
         "constrain": "domain",
         "domain": [
          0,
          1
         ],
         "range": [
          6.5,
          -0.5
         ],
         "type": "category"
        }
       }
      },
      "image/png": "[encoded data removed]"
     },
     "metadata": {},
     "output_type": "display_data"
    }
   ],
   "source": [
    "# Convert all columns to numeric (if not already)\n",
    "import plotly.express as px\n",
    "sub_df = sub_df.apply(pd.to_numeric, errors='coerce')\n",
    "\n",
    "# Compute correlation matrix\n",
    "corr_matrix = sub_df.corr()\n",
    "\n",
    "# Create heatmap using Plotly\n",
    "fig2 = px.imshow(\n",
    "    corr_matrix,\n",
    "    text_auto=True,\n",
    "    color_continuous_scale='RdBu_r',\n",
    "    title='Correlation Heatmap of Happiness Attributes',\n",
    "    width=800,\n",
    "    height=600\n",
    ")\n",
    "\n",
    "# Show the heatmap\n",
    "fig2.show()\n"
   ]
  },
  {
   "cell_type": "markdown",
   "id": "c3856f71-a52b-44de-99b8-23b7c7c38b90",
   "metadata": {},
   "source": [
    "Write a code that creates a scatter plot named fig3 between Happiness Score and GDP per Capita attributes of a dataframe using Plotly. Use Region to color the data points on the scatter plot."
   ]
  },
  {
   "cell_type": "code",
   "execution_count": 25,
   "id": "99b11601-d276-4b6f-a889-25abbb9aeea7",
   "metadata": {},
   "outputs": [
    {
     "data": {
      "application/vnd.plotly.v1+json": {
       "config": {
        "plotlyServerURL": "https://plot.ly"
       },
       "data": [
        {
         "hovertemplate": "Region=Western Europe<br>GDP per Capita=%{x}<br>Happiness Score=%{y}<extra></extra>",
         "legendgroup": "Western Europe",
         "marker": {
          "color": "#636efa",
          "symbol": "circle"
         },
         "mode": "markers",
         "name": "Western Europe",
         "orientation": "v",
         "showlegend": true,
         "type": "scatter",
         "x": {
          "_inputArray": {
           "0": 1.44178,
           "1": 1.52733,
           "10": 1.48341,
           "11": 1.69752,
           "12": 1.40283,
           "13": 1.30782,
           "14": 1.39488,
           "15": 1.34253,
           "16": 1.35495,
           "17": 1.31141,
           "18": 1.31857,
           "19": 1.27607,
           "2": 1.42666,
           "20": 1.24886,
           "3": 1.57744,
           "4": 1.40598,
           "5": 1.46468,
           "6": 1.45181,
           "7": 1.45038,
           "8": 1.44787,
           "9": 1.42539,
           "bdata": "Gm7A54cR9z/kMQOV8W/4P4guqG+Z0/Y/k2+2uTE9+T8CSG3i5H72PzqvsUtUb/c/mBdgH5069z8UXKyowTT3P5jArbt5Kvc/H7qgvmXO9j8j88gfDLz3PwzlRLsKKfs/GZC93v1x9j8i4BCq1Oz0P/2C3bBtUfY/0GG+vAB79T92cRsN4K31P5ZbWg2J+/Q/m8k329wY9T/tgVZgyGr0P16FlJ9U+/M/",
           "dtype": "f8",
           "shape": "21"
          },
          "bdata": "Gm7A54cR9z/kMQOV8W/4P4guqG+Z0/Y/k2+2uTE9+T8CSG3i5H72PzqvsUtUb/c/mBdgH5069z8UXKyowTT3P5jArbt5Kvc/H7qgvmXO9j8j88gfDLz3PwzlRLsKKfs/GZC93v1x9j8i4BCq1Oz0P/2C3bBtUfY/0GG+vAB79T92cRsN4K31P5ZbWg2J+/Q/m8k329wY9T/tgVZgyGr0P16FlJ9U+/M/",
          "dtype": "f8"
         },
         "xaxis": "x",
         "y": {
          "_inputArray": {
           "0": 7.526,
           "1": 7.509,
           "10": 6.907,
           "11": 6.871,
           "12": 6.725,
           "13": 6.488,
           "14": 6.478,
           "15": 6.361,
           "16": 5.977,
           "17": 5.771,
           "18": 5.546,
           "19": 5.123,
           "2": 7.501,
           "20": 5.033,
           "3": 7.498,
           "4": 7.413,
           "5": 7.339,
           "6": 7.291,
           "7": 7.119,
           "8": 6.994,
           "9": 6.929,
           "bdata": "tMh2vp8aHkDwp8ZLNwkeQBsv3SQGAR5Ay6FFtvP9HUD0/dR46aYdQEJg5dAiWx1ARIts5/spHUBg5dAi23kcQGDl0CLb+RtAnu+nxku3G0BU46WbxKAbQJZDi2znextAZmZmZmbmGkDByqFFtvMZQLbz/dR46RlAi2zn+6lxGUCcxCCwcugXQC/dJAaBFRdAyXa+nxovFkDLoUW2830UQG8Sg8DKIRRA",
           "dtype": "f8",
           "shape": "21"
          },
          "bdata": "tMh2vp8aHkDwp8ZLNwkeQBsv3SQGAR5Ay6FFtvP9HUD0/dR46aYdQEJg5dAiWx1ARIts5/spHUBg5dAi23kcQGDl0CLb+RtAnu+nxku3G0BU46WbxKAbQJZDi2znextAZmZmZmbmGkDByqFFtvMZQLbz/dR46RlAi2zn+6lxGUCcxCCwcugXQC/dJAaBFRdAyXa+nxovFkDLoUW2830UQG8Sg8DKIRRA",
          "dtype": "f8"
         },
         "yaxis": "y"
        },
        {
         "hovertemplate": "Region=North America<br>GDP per Capita=%{x}<br>Happiness Score=%{y}<extra></extra>",
         "legendgroup": "North America",
         "marker": {
          "color": "#EF553B",
          "symbol": "circle"
         },
         "mode": "markers",
         "name": "North America",
         "orientation": "v",
         "showlegend": true,
         "type": "scatter",
         "x": {
          "_inputArray": {
           "0": 1.44015,
           "1": 1.50796,
           "bdata": "tFn1udoK9z+N0TqqmiD4Pw==",
           "dtype": "f8",
           "shape": "2"
          },
          "bdata": "tFn1udoK9z+N0TqqmiD4Pw==",
          "dtype": "f8"
         },
         "xaxis": "x",
         "y": {
          "_inputArray": {
           "0": 7.404,
           "1": 7.104,
           "bdata": "BFYOLbKdHUDRItv5fmocQA==",
           "dtype": "f8",
           "shape": "2"
          },
          "bdata": "BFYOLbKdHUDRItv5fmocQA==",
          "dtype": "f8"
         },
         "yaxis": "y"
        },
        {
         "hovertemplate": "Region=Australia and New Zealand<br>GDP per Capita=%{x}<br>Happiness Score=%{y}<extra></extra>",
         "legendgroup": "Australia and New Zealand",
         "marker": {
          "color": "#00cc96",
          "symbol": "circle"
         },
         "mode": "markers",
         "name": "Australia and New Zealand",
         "orientation": "v",
         "showlegend": true,
         "type": "scatter",
         "x": {
          "_inputArray": {
           "0": 1.36066,
           "1": 1.44443,
           "bdata": "E5uPa0PF9T/Ox7WhYhz3Pw==",
           "dtype": "f8",
           "shape": "2"
          },
          "bdata": "E5uPa0PF9T/Ox7WhYhz3Pw==",
          "dtype": "f8"
         },
         "xaxis": "x",
         "y": {
          "_inputArray": {
           "0": 7.334,
           "1": 7.313,
           "bdata": "vHSTGARWHUCNl24Sg0AdQA==",
           "dtype": "f8",
           "shape": "2"
          },
          "bdata": "vHSTGARWHUCNl24Sg0AdQA==",
          "dtype": "f8"
         },
         "yaxis": "y"
        },
        {
         "hovertemplate": "Region=Middle East and Northern Africa<br>GDP per Capita=%{x}<br>Happiness Score=%{y}<extra></extra>",
         "legendgroup": "Middle East and Northern Africa",
         "marker": {
          "color": "#ab63fa",
          "symbol": "circle"
         },
         "mode": "markers",
         "name": "Middle East and Northern Africa",
         "orientation": "v",
         "showlegend": true,
         "type": "scatter",
         "x": {
          "_inputArray": {
           "0": 1.33766,
           "1": 1.57352,
           "10": 0.84058,
           "11": 1.12268,
           "12": 0.97724,
           "13": 1.11758,
           "14": 0.67024,
           "15": 1.07474,
           "16": 0.95395,
           "17": 0.57939,
           "18": 0.74719,
           "2": 1.48953,
           "3": 1.82427,
           "4": 1.05266,
           "5": 1.61714,
           "6": 0.951772064516129,
           "7": 1.06688,
           "8": 1.16492,
           "9": 0.99673,
           "bdata": "gq0SLA5n9T93oblOIy35P/eSxmgd1fc/xy5RvTUw/T/y6hwDstfwP+TaUDHO3/k/TPtKsOp07j+LGkzD8BHxPxZNZyeDo/I/hSUeUDbl7z9nfjUHCObqP/T4vU1/9vE/L/oK0oxF7z9vnuqQm+HxP8ISDyibcuU/pz/7kSIy8T9JnYAmwobuP18ktOVciuI/Yr68APvo5z8=",
           "dtype": "f8",
           "shape": "19"
          },
          "bdata": "gq0SLA5n9T93oblOIy35P/eSxmgd1fc/xy5RvTUw/T/y6hwDstfwP+TaUDHO3/k/TPtKsOp07j+LGkzD8BHxPxZNZyeDo/I/hSUeUDbl7z9nfjUHCObqP/T4vU1/9vE/L/oK0oxF7z9vnuqQm+HxP8ISDyibcuU/pz/7kSIy8T9JnYAmwobuP18ktOVciuI/Yr68APvo5z8=",
          "dtype": "f8"
         },
         "xaxis": "x",
         "y": {
          "_inputArray": {
           "0": 7.267,
           "1": 6.573,
           "10": 5.151,
           "11": 5.129,
           "12": 5.045,
           "13": 4.813,
           "14": 4.754,
           "15": 4.575,
           "16": 4.362,
           "17": 3.724,
           "18": 3.069,
           "2": 6.379,
           "3": 6.375,
           "4": 6.355,
           "5": 6.239,
           "6": 6.218,
           "7": 5.615,
           "8": 5.389,
           "9": 5.303,
           "bdata": "xSCwcmgRHUCYbhKDwEoaQGq8dJMYhBlAAAAAAACAGUDsUbgehWsZQNv5fmq89BhArBxaZDvfGED2KFyPwnUWQHWTGARWjhVAg8DKoUU2FUC0yHa+n5oUQGq8dJMYhBRArkfhehQuFECNl24Sg0ATQGq8dJMYBBNAzczMzMxMEkCmm8QgsHIRQJhuEoPAyg1AWmQ730+NCEA=",
           "dtype": "f8",
           "shape": "19"
          },
          "bdata": "xSCwcmgRHUCYbhKDwEoaQGq8dJMYhBlAAAAAAACAGUDsUbgehWsZQNv5fmq89BhArBxaZDvfGED2KFyPwnUWQHWTGARWjhVAg8DKoUU2FUC0yHa+n5oUQGq8dJMYhBRArkfhehQuFECNl24Sg0ATQGq8dJMYBBNAzczMzMxMEkCmm8QgsHIRQJhuEoPAyg1AWmQ730+NCEA=",
          "dtype": "f8"
         },
         "yaxis": "y"
        },
        {
         "hovertemplate": "Region=Latin America and Caribbean<br>GDP per Capita=%{x}<br>Happiness Score=%{y}<extra></extra>",
         "legendgroup": "Latin America and Caribbean",
         "marker": {
          "color": "#FFA15A",
          "symbol": "circle"
         },
         "mode": "markers",
         "name": "Latin America and Caribbean",
         "orientation": "v",
         "showlegend": true,
         "type": "scatter",
         "x": {
          "_inputArray": {
           "0": 1.06879,
           "1": 1.35943,
           "10": 1.09686,
           "11": 1.32572,
           "12": 1.13367,
           "13": 0.8737,
           "14": 0.69384,
           "15": 0.97306,
           "16": 0.87616,
           "17": 0.951772064516129,
           "18": 0.99602,
           "19": 0.89373,
           "2": 1.08754,
           "20": 0.89333,
           "21": 1.02787,
           "22": 0.69429,
           "23": 0.34097,
           "3": 1.11508,
           "4": 1.2167,
           "5": 1.18306,
           "6": 1.15137,
           "7": 1.18157,
           "8": 1.03032,
           "9": 0.83454,
           "bdata": "YKsEi8MZ8T9xOPOrOcD1Py140VeQZvE/ZcdGIF7X8T/ysFBrmnfzP8tKk1LQ7fI/QIf58gJs8j+d9L7xtefyP7GiBtMwfPA/24XmOo206j8ipkQSvYzxPy5zuiwmNvU/Fk1nJ4Mj8j+FfNCzWfXrPzIDlfHvM+Y/3nahuU4j7z8MB0KygAnsP0z7SrDqdO4/cy7FVWXf7z/Thy6ob5nsP0ok0csoluw/4KEo0Cdy8D8rE36pnzfmPxiyutVz0tU/",
           "dtype": "f8",
           "shape": "24"
          },
          "bdata": "YKsEi8MZ8T9xOPOrOcD1Py140VeQZvE/ZcdGIF7X8T/ysFBrmnfzP8tKk1LQ7fI/QIf58gJs8j+d9L7xtefyP7GiBtMwfPA/24XmOo206j8ipkQSvYzxPy5zuiwmNvU/Fk1nJ4Mj8j+FfNCzWfXrPzIDlfHvM+Y/3nahuU4j7z8MB0KygAnsP0z7SrDqdO4/cy7FVWXf7z/Thy6ob5nsP0ok0csoluw/4KEo0Cdy8D8rE36pnzfmPxiyutVz0tU/",
          "dtype": "f8"
         },
         "xaxis": "x",
         "y": {
          "_inputArray": {
           "0": 7.087,
           "1": 7.039,
           "10": 6.269,
           "11": 6.168,
           "12": 6.084,
           "13": 6.068,
           "14": 5.992,
           "15": 5.976,
           "16": 5.956,
           "17": 5.822,
           "18": 5.743,
           "19": 5.538,
           "2": 6.952,
           "20": 5.51,
           "21": 5.155,
           "22": 4.871,
           "23": 4.028,
           "3": 6.778,
           "4": 6.705,
           "5": 6.701,
           "6": 6.65,
           "7": 6.545,
           "8": 6.481,
           "9": 6.324,
           "bdata": "DAIrhxZZHEAOLbKd7yccQAIrhxbZzhtA6SYxCKwcG0BSuB6F69EaQOf7qfHSzRpAmpmZmZmZGkCuR+F6FC4aQAaBlUOL7BlAsp3vp8ZLGUD6fmq8dBMZQHnpJjEIrBhAvHSTGARWGEASg8DKoUUYQCuHFtnO9xdAgZVDi2znF0Bt5/up8dIXQH0/NV66SRdARrbz/dT4FkD0/dR46SYWQArXo3A9ChZAH4XrUbieFECWQ4ts53sTQOkmMQisHBBA",
           "dtype": "f8",
           "shape": "24"
          },
          "bdata": "DAIrhxZZHEAOLbKd7yccQAIrhxbZzhtA6SYxCKwcG0BSuB6F69EaQOf7qfHSzRpAmpmZmZmZGkCuR+F6FC4aQAaBlUOL7BlAsp3vp8ZLGUD6fmq8dBMZQHnpJjEIrBhAvHSTGARWGEASg8DKoUUYQCuHFtnO9xdAgZVDi2znF0Bt5/up8dIXQH0/NV66SRdARrbz/dT4FkD0/dR46SYWQArXo3A9ChZAH4XrUbieFECWQ4ts53sTQOkmMQisHBBA",
          "dtype": "f8"
         },
         "yaxis": "y"
        },
        {
         "hovertemplate": "Region=Southeastern Asia<br>GDP per Capita=%{x}<br>Happiness Score=%{y}<extra></extra>",
         "legendgroup": "Southeastern Asia",
         "marker": {
          "color": "#19d3f3",
          "symbol": "circle"
         },
         "mode": "markers",
         "name": "Southeastern Asia",
         "orientation": "v",
         "showlegend": true,
         "type": "scatter",
         "x": {
          "_inputArray": {
           "0": 1.64555,
           "1": 1.0893,
           "2": 1.25142,
           "3": 0.95104,
           "4": 0.81217,
           "5": 0.74037,
           "6": 0.68042,
           "7": 0.34112,
           "8": 0.55604,
           "bdata": "wOyePCxU+j9ZhjjWxW3xPxL3WPrQBfQ/yQImcOtu7j+vWpnwS/3pP4wQHm0csec/EmvxKQDG5T++vAD76NTVPyWS6GUUy+E/",
           "dtype": "f8",
           "shape": "9"
          },
          "bdata": "wOyePCxU+j9ZhjjWxW3xPxL3WPrQBfQ/yQImcOtu7j+vWpnwS/3pP4wQHm0csec/EmvxKQDG5T++vAD76NTVPyWS6GUUy+E/",
          "dtype": "f8"
         },
         "xaxis": "x",
         "y": {
          "_inputArray": {
           "0": 6.739,
           "1": 6.474,
           "2": 6.005,
           "3": 5.314,
           "4": 5.279,
           "5": 5.061,
           "6": 4.876,
           "7": 4.395,
           "8": 3.907,
           "bdata": "2/l+arz0GkBMN4lBYOUZQIXrUbgeBRhAqMZLN4lBFUAEVg4tsh0VQFg5tMh2PhRAGy/dJAaBE0AUrkfhepQRQKjGSzeJQQ9A",
           "dtype": "f8",
           "shape": "9"
          },
          "bdata": "2/l+arz0GkBMN4lBYOUZQIXrUbgeBRhAqMZLN4lBFUAEVg4tsh0VQFg5tMh2PhRAGy/dJAaBE0AUrkfhepQRQKjGSzeJQQ9A",
          "dtype": "f8"
         },
         "yaxis": "y"
        },
        {
         "hovertemplate": "Region=Central and Eastern Europe<br>GDP per Capita=%{x}<br>Happiness Score=%{y}<extra></extra>",
         "legendgroup": "Central and Eastern Europe",
         "marker": {
          "color": "#FF6692",
          "symbol": "circle"
         },
         "mode": "markers",
         "name": "Central and Eastern Europe",
         "orientation": "v",
         "showlegend": true,
         "type": "scatter",
         "x": {
          "_inputArray": {
           "0": 1.30915,
           "1": 1.27973,
           "10": 1.08017,
           "11": 1.21788,
           "12": 1.1697,
           "13": 1.27964,
           "14": 1.18649,
           "15": 0.90145,
           "16": 1.12373,
           "17": 0.56044,
           "18": 1.03437,
           "19": 0.93383,
           "2": 0.73591,
           "20": 1.07838,
           "21": 1.24142,
           "22": 1.0193,
           "23": 0.48835,
           "24": 0.9553,
           "25": 0.86086,
           "26": 0.87287,
           "27": 0.83792,
           "28": 1.11306,
           "3": 1.22943,
           "4": 0.69177,
           "5": 1.23228,
           "6": 1.24585,
           "7": 1.2692,
           "8": 1.13062,
           "9": 1.29947,
           "bdata": "Ne84RUfy9D99XBsqxnn0P1uU2SCTjOc/XYqryr6r8z9QU8vW+iLmP/M8uDtrt/M/rIvbaADv8z/KVMGopE70P55BQ/8EF/I/QiECDqHK9D/V7IFWYEjxP1w9J71vfPM/ZRniWBe38j9+dOrKZ3n0PyR/MPDc+/I/m1Wfq63Y7D+Xi/hOzPrxPwLZ690f7+E/lGqfjseM8D/9wcBz7+HtP1ORCmMLQfE/6ZrJN9vc8z87AU2EDU/wPzcawFsgQd8/Ns07TtGR7j/q501FKozrP8oa9RCN7us/HEKVmj3Q6j+sxacAGM/xPw==",
           "dtype": "f8",
           "shape": "29"
          },
          "bdata": "Ne84RUfy9D99XBsqxnn0P1uU2SCTjOc/XYqryr6r8z9QU8vW+iLmP/M8uDtrt/M/rIvbaADv8z/KVMGopE70P55BQ/8EF/I/QiECDqHK9D/V7IFWYEjxP1w9J71vfPM/ZRniWBe38j9+dOrKZ3n0PyR/MPDc+/I/m1Wfq63Y7D+Xi/hOzPrxPwLZ690f7+E/lGqfjseM8D/9wcBz7+HtP1ORCmMLQfE/6ZrJN9vc8z87AU2EDU/wPzcawFsgQd8/Ns07TtGR7j/q501FKozrP8oa9RCN7us/HEKVmj3Q6j+sxacAGM/xPw==",
          "dtype": "f8"
         },
         "xaxis": "x",
         "y": {
          "_inputArray": {
           "0": 6.596,
           "1": 6.078,
           "10": 5.658,
           "11": 5.56,
           "12": 5.528,
           "13": 5.517,
           "14": 5.488,
           "15": 5.401,
           "16": 5.291,
           "17": 5.185,
           "18": 5.177,
           "19": 5.163,
           "2": 5.987,
           "20": 5.161,
           "21": 5.145,
           "22": 5.121,
           "23": 4.996,
           "24": 4.655,
           "25": 4.36,
           "26": 4.324,
           "27": 4.252,
           "28": 4.217,
           "3": 5.919,
           "4": 5.897,
           "5": 5.856,
           "6": 5.835,
           "7": 5.813,
           "8": 5.802,
           "9": 5.768,
           "bdata": "/Knx0k1iGkAdWmQ7308YQKabxCCw8hdAkxgEVg6tF0BKDAIrh5YXQAaBlUOLbBdA16NwPQpXF0CNl24Sg0AXQGiR7Xw/NRdA30+Nl24SF0BvEoPAyqEWQD0K16NwPRZA6SYxCKwcFkDFILByaBEWQMHKoUW28xVAtMh2vp+aFUBEi2zn+ykVQD0K16NwvRRAaJHtfD+1FED0/dR46aYUQL6fGi/dpBRAFK5H4XqUFECWQ4ts53sUQJZDi2zn+xNAH4XrUbieEkBxPQrXo3ARQLKd76fGSxFANV66SQwCEUCR7Xw/Nd4QQA==",
           "dtype": "f8",
           "shape": "29"
          },
          "bdata": "/Knx0k1iGkAdWmQ7308YQKabxCCw8hdAkxgEVg6tF0BKDAIrh5YXQAaBlUOLbBdA16NwPQpXF0CNl24Sg0AXQGiR7Xw/NRdA30+Nl24SF0BvEoPAyqEWQD0K16NwPRZA6SYxCKwcFkDFILByaBEWQMHKoUW28xVAtMh2vp+aFUBEi2zn+ykVQD0K16NwvRRAaJHtfD+1FED0/dR46aYUQL6fGi/dpBRAFK5H4XqUFECWQ4ts53sUQJZDi2zn+xNAH4XrUbieEkBxPQrXo3ARQLKd76fGSxFANV66SQwCEUCR7Xw/Nd4QQA==",
          "dtype": "f8"
         },
         "yaxis": "y"
        },
        {
         "hovertemplate": "Region=Eastern Asia<br>GDP per Capita=%{x}<br>Happiness Score=%{y}<extra></extra>",
         "legendgroup": "Eastern Asia",
         "marker": {
          "color": "#B6E880",
          "symbol": "circle"
         },
         "mode": "markers",
         "name": "Eastern Asia",
         "orientation": "v",
         "showlegend": true,
         "type": "scatter",
         "x": {
          "_inputArray": {
           "0": 1.39729,
           "1": 1.38007,
           "2": 1.35948,
           "3": 1.5107,
           "4": 1.0278,
           "5": 0.98853,
           "bdata": "CHJQwkxb9j8wDcNHxBT2P6oOuRluwPU/QBNhw9Mr+D/EQq1p3nHwPxmto6oJou8/",
           "dtype": "f8",
           "shape": "6"
          },
          "bdata": "CHJQwkxb9j8wDcNHxBT2P6oOuRluwPU/QBNhw9Mr+D/EQq1p3nHwPxmto6oJou8/",
          "dtype": "f8"
         },
         "xaxis": "x",
         "y": {
          "_inputArray": {
           "0": 6.379,
           "1": 5.921,
           "2": 5.835,
           "3": 5.458,
           "4": 5.245,
           "5": 4.907,
           "bdata": "arx0kxiEGUDJdr6fGq8XQNejcD0KVxdAokW28/3UFUB7FK5H4foUQFTjpZvEoBNA",
           "dtype": "f8",
           "shape": "6"
          },
          "bdata": "arx0kxiEGUDJdr6fGq8XQNejcD0KVxdAokW28/3UFUB7FK5H4foUQFTjpZvEoBNA",
          "dtype": "f8"
         },
         "yaxis": "y"
        },
        {
         "hovertemplate": "Region=Sub-Saharan Africa<br>GDP per Capita=%{x}<br>Happiness Score=%{y}<extra></extra>",
         "legendgroup": "Sub-Saharan Africa",
         "marker": {
          "color": "#FF97FF",
          "symbol": "circle"
         },
         "mode": "markers",
         "name": "Sub-Saharan Africa",
         "orientation": "v",
         "showlegend": true,
         "type": "scatter",
         "x": {
          "_inputArray": {
           "0": 1.14372,
           "1": 0,
           "10": 0.52267,
           "11": 0.63107,
           "12": 0.05661,
           "13": 0.77109,
           "14": 0.44314,
           "15": 0.61391,
           "16": 0.35041,
           "17": 0.08709,
           "18": 0.63069,
           "19": 1.15851,
           "2": 0.25558,
           "20": 0.31292,
           "21": 1.09426,
           "22": 0.27509,
           "23": 0.55507,
           "24": 0.84731,
           "25": 0.1327,
           "26": 0.39394,
           "27": 0.42214,
           "28": 0.31995,
           "29": 0.34719,
           "3": 0.75216,
           "30": 0.27954,
           "31": 0.47155,
           "32": 0.10706,
           "33": 0.22415,
           "34": 0.32846,
           "35": 0.39499,
           "36": 0.28123,
           "37": 0.06831,
           "4": 0.61202,
           "5": 0.36485,
           "6": 0.93287,
           "7": 0.52497,
           "8": 0.29283,
           "9": 1.02416,
           "bdata": "eH+8V61M8j8AAAAAAAAAAF2/YDdsW9A/4X8r2bER6D/27o/3qpXjP7aEfNCzWdc/tWytLxLa7T8jMqzijczgP1lpUgq6vdI/F/GdmPVi8D/SNZNvtrngPzaTb7a5MeQ/ecxAZfz7rD94uYjvxKzoPwYq499nXNw/2v6VlSal4z8+P4wQHm3WPwgDz72HS7Y/dEF9y5wu5D9hbCHIQYnyP57qkJvhBtQ/pyIVxhaC8T+XOV0WE5vRP/qzHykiw+E/Plxy3Ckd6z8H8BZIUPzAP/WEJR5QNtk/FVeVfVcE2z+Zu5aQD3rUPyrj32dcONY/MiB7vfvj0T92cRsN4C3eP9Wytb5IaLs/xf6ye/KwzD+E04IXfQXVP4HPDyOER9k/ctwpHaz/0T/pYP2fw3yxPw==",
           "dtype": "f8",
           "shape": "38"
          },
          "bdata": "eH+8V61M8j8AAAAAAAAAAF2/YDdsW9A/4X8r2bER6D/27o/3qpXjP7aEfNCzWdc/tWytLxLa7T8jMqzijczgP1lpUgq6vdI/F/GdmPVi8D/SNZNvtrngPzaTb7a5MeQ/ecxAZfz7rD94uYjvxKzoPwYq499nXNw/2v6VlSal4z8+P4wQHm3WPwgDz72HS7Y/dEF9y5wu5D9hbCHIQYnyP57qkJvhBtQ/pyIVxhaC8T+XOV0WE5vRP/qzHykiw+E/Plxy3Ckd6z8H8BZIUPzAP/WEJR5QNtk/FVeVfVcE2z+Zu5aQD3rUPyrj32dcONY/MiB7vfvj0T92cRsN4C3eP9Wytb5IaLs/xf6ye/KwzD+E04IXfQXVP4HPDyOER9k/ctwpHaz/0T/pYP2fw3yxPw==",
          "dtype": "f8"
         },
         "xaxis": "x",
         "y": {
          "_inputArray": {
           "0": 5.648,
           "1": 5.44,
           "10": 4.356,
           "11": 4.276,
           "12": 4.272,
           "13": 4.236,
           "14": 4.219,
           "15": 4.201,
           "16": 4.193,
           "17": 4.156,
           "18": 4.139,
           "19": 4.121,
           "2": 5.057,
           "20": 4.073,
           "21": 3.974,
           "22": 3.956,
           "23": 3.916,
           "24": 3.866,
           "25": 3.856,
           "26": 3.832,
           "27": 3.763,
           "28": 3.739,
           "29": 3.739,
           "3": 4.875,
           "30": 3.695,
           "31": 3.666,
           "32": 3.622,
           "33": 3.607,
           "34": 3.515,
           "35": 3.484,
           "36": 3.303,
           "37": 2.905,
           "4": 4.795,
           "5": 4.635,
           "6": 4.574,
           "7": 4.513,
           "8": 4.508,
           "9": 4.459,
           "bdata": "ZDvfT42XFkDD9Shcj8IVQO58PzVeOhRAAAAAAACAE0CuR+F6FC4TQArXo3A9ihJAsp3vp8ZLEkBaZDvfTw0SQNV46SYxCBJAvHSTGATWEUAGgZVDi2wRQLTIdr6fGhFASgwCK4cWEUCLbOf7qfEQQMdLN4lB4BBA5/up8dLNEEASg8DKocUQQDm0yHa+nxBAdZMYBFaOEECWQ4ts53sQQJhuEoPAShBAmG4Sg8DKD0DZzvdT46UPQIcW2c73Uw9AIbByaJHtDkAMAiuHFtkOQA4tsp3vpw5AtMh2vp8aDkC28/3UeOkNQLbz/dR46Q1Aj8L1KFyPDUCHFtnO91MNQGDl0CLb+QxAQmDl0CLbDEAfhetRuB4MQKwcWmQ73wtABoGVQ4tsCkA9CtejcD0HQA==",
           "dtype": "f8",
           "shape": "38"
          },
          "bdata": "ZDvfT42XFkDD9Shcj8IVQO58PzVeOhRAAAAAAACAE0CuR+F6FC4TQArXo3A9ihJAsp3vp8ZLEkBaZDvfTw0SQNV46SYxCBJAvHSTGATWEUAGgZVDi2wRQLTIdr6fGhFASgwCK4cWEUCLbOf7qfEQQMdLN4lB4BBA5/up8dLNEEASg8DKocUQQDm0yHa+nxBAdZMYBFaOEECWQ4ts53sQQJhuEoPAShBAmG4Sg8DKD0DZzvdT46UPQIcW2c73Uw9AIbByaJHtDkAMAiuHFtkOQA4tsp3vpw5AtMh2vp8aDkC28/3UeOkNQLbz/dR46Q1Aj8L1KFyPDUCHFtnO91MNQGDl0CLb+QxAQmDl0CLbDEAfhetRuB4MQKwcWmQ73wtABoGVQ4tsCkA9CtejcD0HQA==",
          "dtype": "f8"
         },
         "yaxis": "y"
        },
        {
         "hovertemplate": "Region=Southern Asia<br>GDP per Capita=%{x}<br>Happiness Score=%{y}<extra></extra>",
         "legendgroup": "Southern Asia",
         "marker": {
          "color": "#FECB52",
          "symbol": "circle"
         },
         "mode": "markers",
         "name": "Southern Asia",
         "orientation": "v",
         "showlegend": true,
         "type": "scatter",
         "x": {
          "_inputArray": {
           "0": 0.8527,
           "1": 0.68816,
           "2": 0.44626,
           "3": 0.54177,
           "4": 0.97318,
           "5": 0.74036,
           "6": 0.38227,
           "bdata": "DJOpglFJ6z+hSs0eaAXmP1bUYBqGj9w/g4b+CS5W4T+H4SNiSiTvP6mHaHQHsec/nnsPlxx32D8=",
           "dtype": "f8",
           "shape": "7"
          },
          "bdata": "DJOpglFJ6z+hSs0eaAXmP1bUYBqGj9w/g4b+CS5W4T+H4SNiSiTvP6mHaHQHsec/nnsPlxx32D8=",
          "dtype": "f8"
         },
         "xaxis": "x",
         "y": {
          "_inputArray": {
           "0": 5.196,
           "1": 5.132,
           "2": 4.793,
           "3": 4.643,
           "4": 4.415,
           "5": 4.404,
           "6": 3.36,
           "bdata": "YhBYObTIFEC6SQwCK4cUQHnpJjEILBNA30+Nl26SEkApXI/C9agRQARWDi2ynRFA4XoUrkfhCkA=",
           "dtype": "f8",
           "shape": "7"
          },
          "bdata": "YhBYObTIFEC6SQwCK4cUQHnpJjEILBNA30+Nl26SEkApXI/C9agRQARWDi2ynRFA4XoUrkfhCkA=",
          "dtype": "f8"
         },
         "yaxis": "y"
        }
       ],
       "layout": {
        "height": 600,
        "legend": {
         "title": {
          "text": "Region"
         },
         "tracegroupgap": 0
        },
        "template": {
         "data": {
          "bar": [
           {
            "error_x": {
             "color": "#2a3f5f"
            },
            "error_y": {
             "color": "#2a3f5f"
            },
            "marker": {
             "line": {
              "color": "#E5ECF6",
              "width": 0.5
             },
             "pattern": {
              "fillmode": "overlay",
              "size": 10,
              "solidity": 0.2
             }
            },
            "type": "bar"
           }
          ],
          "barpolar": [
           {
            "marker": {
             "line": {
              "color": "#E5ECF6",
              "width": 0.5
             },
             "pattern": {
              "fillmode": "overlay",
              "size": 10,
              "solidity": 0.2
             }
            },
            "type": "barpolar"
           }
          ],
          "carpet": [
           {
            "aaxis": {
             "endlinecolor": "#2a3f5f",
             "gridcolor": "white",
             "linecolor": "white",
             "minorgridcolor": "white",
             "startlinecolor": "#2a3f5f"
            },
            "baxis": {
             "endlinecolor": "#2a3f5f",
             "gridcolor": "white",
             "linecolor": "white",
             "minorgridcolor": "white",
             "startlinecolor": "#2a3f5f"
            },
            "type": "carpet"
           }
          ],
          "choropleth": [
           {
            "colorbar": {
             "outlinewidth": 0,
             "ticks": ""
            },
            "type": "choropleth"
           }
          ],
          "contour": [
           {
            "colorbar": {
             "outlinewidth": 0,
             "ticks": ""
            },
            "colorscale": [
             [
              0,
              "#0d0887"
             ],
             [
              0.1111111111111111,
              "#46039f"
             ],
             [
              0.2222222222222222,
              "#7201a8"
             ],
             [
              0.3333333333333333,
              "#9c179e"
             ],
             [
              0.4444444444444444,
              "#bd3786"
             ],
             [
              0.5555555555555556,
              "#d8576b"
             ],
             [
              0.6666666666666666,
              "#ed7953"
             ],
             [
              0.7777777777777778,
              "#fb9f3a"
             ],
             [
              0.8888888888888888,
              "#fdca26"
             ],
             [
              1,
              "#f0f921"
             ]
            ],
            "type": "contour"
           }
          ],
          "contourcarpet": [
           {
            "colorbar": {
             "outlinewidth": 0,
             "ticks": ""
            },
            "type": "contourcarpet"
           }
          ],
          "heatmap": [
           {
            "colorbar": {
             "outlinewidth": 0,
             "ticks": ""
            },
            "colorscale": [
             [
              0,
              "#0d0887"
             ],
             [
              0.1111111111111111,
              "#46039f"
             ],
             [
              0.2222222222222222,
              "#7201a8"
             ],
             [
              0.3333333333333333,
              "#9c179e"
             ],
             [
              0.4444444444444444,
              "#bd3786"
             ],
             [
              0.5555555555555556,
              "#d8576b"
             ],
             [
              0.6666666666666666,
              "#ed7953"
             ],
             [
              0.7777777777777778,
              "#fb9f3a"
             ],
             [
              0.8888888888888888,
              "#fdca26"
             ],
             [
              1,
              "#f0f921"
             ]
            ],
            "type": "heatmap"
           }
          ],
          "histogram": [
           {
            "marker": {
             "pattern": {
              "fillmode": "overlay",
              "size": 10,
              "solidity": 0.2
             }
            },
            "type": "histogram"
           }
          ],
          "histogram2d": [
           {
            "colorbar": {
             "outlinewidth": 0,
             "ticks": ""
            },
            "colorscale": [
             [
              0,
              "#0d0887"
             ],
             [
              0.1111111111111111,
              "#46039f"
             ],
             [
              0.2222222222222222,
              "#7201a8"
             ],
             [
              0.3333333333333333,
              "#9c179e"
             ],
             [
              0.4444444444444444,
              "#bd3786"
             ],
             [
              0.5555555555555556,
              "#d8576b"
             ],
             [
              0.6666666666666666,
              "#ed7953"
             ],
             [
              0.7777777777777778,
              "#fb9f3a"
             ],
             [
              0.8888888888888888,
              "#fdca26"
             ],
             [
              1,
              "#f0f921"
             ]
            ],
            "type": "histogram2d"
           }
          ],
          "histogram2dcontour": [
           {
            "colorbar": {
             "outlinewidth": 0,
             "ticks": ""
            },
            "colorscale": [
             [
              0,
              "#0d0887"
             ],
             [
              0.1111111111111111,
              "#46039f"
             ],
             [
              0.2222222222222222,
              "#7201a8"
             ],
             [
              0.3333333333333333,
              "#9c179e"
             ],
             [
              0.4444444444444444,
              "#bd3786"
             ],
             [
              0.5555555555555556,
              "#d8576b"
             ],
             [
              0.6666666666666666,
              "#ed7953"
             ],
             [
              0.7777777777777778,
              "#fb9f3a"
             ],
             [
              0.8888888888888888,
              "#fdca26"
             ],
             [
              1,
              "#f0f921"
             ]
            ],
            "type": "histogram2dcontour"
           }
          ],
          "mesh3d": [
           {
            "colorbar": {
             "outlinewidth": 0,
             "ticks": ""
            },
            "type": "mesh3d"
           }
          ],
          "parcoords": [
           {
            "line": {
             "colorbar": {
              "outlinewidth": 0,
              "ticks": ""
             }
            },
            "type": "parcoords"
           }
          ],
          "pie": [
           {
            "automargin": true,
            "type": "pie"
           }
          ],
          "scatter": [
           {
            "fillpattern": {
             "fillmode": "overlay",
             "size": 10,
             "solidity": 0.2
            },
            "type": "scatter"
           }
          ],
          "scatter3d": [
           {
            "line": {
             "colorbar": {
              "outlinewidth": 0,
              "ticks": ""
             }
            },
            "marker": {
             "colorbar": {
              "outlinewidth": 0,
              "ticks": ""
             }
            },
            "type": "scatter3d"
           }
          ],
          "scattercarpet": [
           {
            "marker": {
             "colorbar": {
              "outlinewidth": 0,
              "ticks": ""
             }
            },
            "type": "scattercarpet"
           }
          ],
          "scattergeo": [
           {
            "marker": {
             "colorbar": {
              "outlinewidth": 0,
              "ticks": ""
             }
            },
            "type": "scattergeo"
           }
          ],
          "scattergl": [
           {
            "marker": {
             "colorbar": {
              "outlinewidth": 0,
              "ticks": ""
             }
            },
            "type": "scattergl"
           }
          ],
          "scattermap": [
           {
            "marker": {
             "colorbar": {
              "outlinewidth": 0,
              "ticks": ""
             }
            },
            "type": "scattermap"
           }
          ],
          "scattermapbox": [
           {
            "marker": {
             "colorbar": {
              "outlinewidth": 0,
              "ticks": ""
             }
            },
            "type": "scattermapbox"
           }
          ],
          "scatterpolar": [
           {
            "marker": {
             "colorbar": {
              "outlinewidth": 0,
              "ticks": ""
             }
            },
            "type": "scatterpolar"
           }
          ],
          "scatterpolargl": [
           {
            "marker": {
             "colorbar": {
              "outlinewidth": 0,
              "ticks": ""
             }
            },
            "type": "scatterpolargl"
           }
          ],
          "scatterternary": [
           {
            "marker": {
             "colorbar": {
              "outlinewidth": 0,
              "ticks": ""
             }
            },
            "type": "scatterternary"
           }
          ],
          "surface": [
           {
            "colorbar": {
             "outlinewidth": 0,
             "ticks": ""
            },
            "colorscale": [
             [
              0,
              "#0d0887"
             ],
             [
              0.1111111111111111,
              "#46039f"
             ],
             [
              0.2222222222222222,
              "#7201a8"
             ],
             [
              0.3333333333333333,
              "#9c179e"
             ],
             [
              0.4444444444444444,
              "#bd3786"
             ],
             [
              0.5555555555555556,
              "#d8576b"
             ],
             [
              0.6666666666666666,
              "#ed7953"
             ],
             [
              0.7777777777777778,
              "#fb9f3a"
             ],
             [
              0.8888888888888888,
              "#fdca26"
             ],
             [
              1,
              "#f0f921"
             ]
            ],
            "type": "surface"
           }
          ],
          "table": [
           {
            "cells": {
             "fill": {
              "color": "#EBF0F8"
             },
             "line": {
              "color": "white"
             }
            },
            "header": {
             "fill": {
              "color": "#C8D4E3"
             },
             "line": {
              "color": "white"
             }
            },
            "type": "table"
           }
          ]
         },
         "layout": {
          "annotationdefaults": {
           "arrowcolor": "#2a3f5f",
           "arrowhead": 0,
           "arrowwidth": 1
          },
          "autotypenumbers": "strict",
          "coloraxis": {
           "colorbar": {
            "outlinewidth": 0,
            "ticks": ""
           }
          },
          "colorscale": {
           "diverging": [
            [
             0,
             "#8e0152"
            ],
            [
             0.1,
             "#c51b7d"
            ],
            [
             0.2,
             "#de77ae"
            ],
            [
             0.3,
             "#f1b6da"
            ],
            [
             0.4,
             "#fde0ef"
            ],
            [
             0.5,
             "#f7f7f7"
            ],
            [
             0.6,
             "#e6f5d0"
            ],
            [
             0.7,
             "#b8e186"
            ],
            [
             0.8,
             "#7fbc41"
            ],
            [
             0.9,
             "#4d9221"
            ],
            [
             1,
             "#276419"
            ]
           ],
           "sequential": [
            [
             0,
             "#0d0887"
            ],
            [
             0.1111111111111111,
             "#46039f"
            ],
            [
             0.2222222222222222,
             "#7201a8"
            ],
            [
             0.3333333333333333,
             "#9c179e"
            ],
            [
             0.4444444444444444,
             "#bd3786"
            ],
            [
             0.5555555555555556,
             "#d8576b"
            ],
            [
             0.6666666666666666,
             "#ed7953"
            ],
            [
             0.7777777777777778,
             "#fb9f3a"
            ],
            [
             0.8888888888888888,
             "#fdca26"
            ],
            [
             1,
             "#f0f921"
            ]
           ],
           "sequentialminus": [
            [
             0,
             "#0d0887"
            ],
            [
             0.1111111111111111,
             "#46039f"
            ],
            [
             0.2222222222222222,
             "#7201a8"
            ],
            [
             0.3333333333333333,
             "#9c179e"
            ],
            [
             0.4444444444444444,
             "#bd3786"
            ],
            [
             0.5555555555555556,
             "#d8576b"
            ],
            [
             0.6666666666666666,
             "#ed7953"
            ],
            [
             0.7777777777777778,
             "#fb9f3a"
            ],
            [
             0.8888888888888888,
             "#fdca26"
            ],
            [
             1,
             "#f0f921"
            ]
           ]
          },
          "colorway": [
           "#636efa",
           "#EF553B",
           "#00cc96",
           "#ab63fa",
           "#FFA15A",
           "#19d3f3",
           "#FF6692",
           "#B6E880",
           "#FF97FF",
           "#FECB52"
          ],
          "font": {
           "color": "#2a3f5f"
          },
          "geo": {
           "bgcolor": "white",
           "lakecolor": "white",
           "landcolor": "#E5ECF6",
           "showlakes": true,
           "showland": true,
           "subunitcolor": "white"
          },
          "hoverlabel": {
           "align": "left"
          },
          "hovermode": "closest",
          "mapbox": {
           "style": "light"
          },
          "paper_bgcolor": "white",
          "plot_bgcolor": "#E5ECF6",
          "polar": {
           "angularaxis": {
            "gridcolor": "white",
            "linecolor": "white",
            "ticks": ""
           },
           "bgcolor": "#E5ECF6",
           "radialaxis": {
            "gridcolor": "white",
            "linecolor": "white",
            "ticks": ""
           }
          },
          "scene": {
           "xaxis": {
            "backgroundcolor": "#E5ECF6",
            "gridcolor": "white",
            "gridwidth": 2,
            "linecolor": "white",
            "showbackground": true,
            "ticks": "",
            "zerolinecolor": "white"
           },
           "yaxis": {
            "backgroundcolor": "#E5ECF6",
            "gridcolor": "white",
            "gridwidth": 2,
            "linecolor": "white",
            "showbackground": true,
            "ticks": "",
            "zerolinecolor": "white"
           },
           "zaxis": {
            "backgroundcolor": "#E5ECF6",
            "gridcolor": "white",
            "gridwidth": 2,
            "linecolor": "white",
            "showbackground": true,
            "ticks": "",
            "zerolinecolor": "white"
           }
          },
          "shapedefaults": {
           "line": {
            "color": "#2a3f5f"
           }
          },
          "ternary": {
           "aaxis": {
            "gridcolor": "white",
            "linecolor": "white",
            "ticks": ""
           },
           "baxis": {
            "gridcolor": "white",
            "linecolor": "white",
            "ticks": ""
           },
           "bgcolor": "#E5ECF6",
           "caxis": {
            "gridcolor": "white",
            "linecolor": "white",
            "ticks": ""
           }
          },
          "title": {
           "x": 0.05
          },
          "xaxis": {
           "automargin": true,
           "gridcolor": "white",
           "linecolor": "white",
           "ticks": "",
           "title": {
            "standoff": 15
           },
           "zerolinecolor": "white",
           "zerolinewidth": 2
          },
          "yaxis": {
           "automargin": true,
           "gridcolor": "white",
           "linecolor": "white",
           "ticks": "",
           "title": {
            "standoff": 15
           },
           "zerolinecolor": "white",
           "zerolinewidth": 2
          }
         }
        },
        "title": {
         "text": "Happiness Score vs GDP per Capita by Region"
        },
        "width": 800,
        "xaxis": {
         "anchor": "y",
         "autorange": true,
         "domain": [
          0,
          1
         ],
         "range": [
          -0.11996485304922853,
          1.9442348530492286
         ],
         "title": {
          "text": "GDP per Capita"
         },
         "type": "linear"
        },
        "yaxis": {
         "anchor": "x",
         "autorange": true,
         "domain": [
          0,
          1
         ],
         "range": [
          2.59630971659919,
          7.83469028340081
         ],
         "title": {
          "text": "Happiness Score"
         },
         "type": "linear"
        }
       }
      },
      "image/png": "[encoded data removed]"
     },
     "metadata": {},
     "output_type": "display_data"
    }
   ],
   "source": [
    "# Convert numeric columns to numeric types\n",
    "df['Happiness Score'] = pd.to_numeric(df['Happiness Score'], errors='coerce')\n",
    "df['Economy (GDP per Capita)'] = pd.to_numeric(df['Economy (GDP per Capita)'], errors='coerce')\n",
    "\n",
    "# Drop rows with missing values in relevant columns\n",
    "df_clean = df.dropna(subset=['Happiness Score', 'Economy (GDP per Capita)', 'Region'])\n",
    "\n",
    "# Create scatter plot using Plotly\n",
    "fig3 = px.scatter(\n",
    "    df_clean,\n",
    "    x='Economy (GDP per Capita)',\n",
    "    y='Happiness Score',\n",
    "    color='Region',\n",
    "    title='Happiness Score vs GDP per Capita by Region',\n",
    "    labels={'Economy (GDP per Capita)': 'GDP per Capita', 'Happiness Score': 'Happiness Score'},\n",
    "    width=800,\n",
    "    height=600\n",
    ")\n",
    "\n",
    "# Show the figure\n",
    "fig3.show()"
   ]
  },
  {
   "cell_type": "markdown",
   "id": "b29a2a82-c7b2-402e-a67f-a5f809a6bb7a",
   "metadata": {},
   "source": [
    "Write a Plotly code that creates a pie chart named fig4 to present Happiness Score by Region attributes of dataframe df."
   ]
  },
  {
   "cell_type": "code",
   "execution_count": 26,
   "id": "1f1524a2-6018-40ab-b779-ba177692e10c",
   "metadata": {},
   "outputs": [
    {
     "data": {
      "application/vnd.plotly.v1+json": {
       "config": {
        "plotlyServerURL": "https://plot.ly"
       },
       "data": [
        {
         "domain": {
          "x": [
           0,
           1
          ],
          "y": [
           0,
           1
          ]
         },
         "hovertemplate": "Region=%{label}<br>Happiness Score=%{value}<extra></extra>",
         "labels": [
          "Australia and New Zealand",
          "Central and Eastern Europe",
          "Eastern Asia",
          "Latin America and Caribbean",
          "Middle East and Northern Africa",
          "North America",
          "Southeastern Asia",
          "Southern Asia",
          "Sub-Saharan Africa",
          "Western Europe"
         ],
         "legendgroup": "",
         "name": "",
         "showlegend": true,
         "type": "pie",
         "values": {
          "_inputArray": {
           "0": 14.646999999999998,
           "1": 155.75,
           "2": 33.745,
           "3": 146.442,
           "4": 102.335,
           "5": 14.508,
           "6": 48.05,
           "7": 31.942999999999998,
           "8": 157.184,
           "9": 140.399,
           "bdata": "JAaBlUNLLUAAAAAAAHhjQI/C9Shc30BAoBov3SROYkA9CtejcJVZQGq8dJMYBC1AZmZmZmYGSEDEILByaPE/QNnO91PjpWNAVOOlm8SMYUA=",
           "dtype": "f8",
           "shape": "10"
          },
          "bdata": "JAaBlUNLLUAAAAAAAHhjQI/C9Shc30BAoBov3SROYkA9CtejcJVZQGq8dJMYBC1AZmZmZmYGSEDEILByaPE/QNnO91PjpWNAVOOlm8SMYUA=",
          "dtype": "f8"
         }
        }
       ],
       "layout": {
        "height": 600,
        "legend": {
         "tracegroupgap": 0
        },
        "template": {
         "data": {
          "bar": [
           {
            "error_x": {
             "color": "#2a3f5f"
            },
            "error_y": {
             "color": "#2a3f5f"
            },
            "marker": {
             "line": {
              "color": "#E5ECF6",
              "width": 0.5
             },
             "pattern": {
              "fillmode": "overlay",
              "size": 10,
              "solidity": 0.2
             }
            },
            "type": "bar"
           }
          ],
          "barpolar": [
           {
            "marker": {
             "line": {
              "color": "#E5ECF6",
              "width": 0.5
             },
             "pattern": {
              "fillmode": "overlay",
              "size": 10,
              "solidity": 0.2
             }
            },
            "type": "barpolar"
           }
          ],
          "carpet": [
           {
            "aaxis": {
             "endlinecolor": "#2a3f5f",
             "gridcolor": "white",
             "linecolor": "white",
             "minorgridcolor": "white",
             "startlinecolor": "#2a3f5f"
            },
            "baxis": {
             "endlinecolor": "#2a3f5f",
             "gridcolor": "white",
             "linecolor": "white",
             "minorgridcolor": "white",
             "startlinecolor": "#2a3f5f"
            },
            "type": "carpet"
           }
          ],
          "choropleth": [
           {
            "colorbar": {
             "outlinewidth": 0,
             "ticks": ""
            },
            "type": "choropleth"
           }
          ],
          "contour": [
           {
            "colorbar": {
             "outlinewidth": 0,
             "ticks": ""
            },
            "colorscale": [
             [
              0,
              "#0d0887"
             ],
             [
              0.1111111111111111,
              "#46039f"
             ],
             [
              0.2222222222222222,
              "#7201a8"
             ],
             [
              0.3333333333333333,
              "#9c179e"
             ],
             [
              0.4444444444444444,
              "#bd3786"
             ],
             [
              0.5555555555555556,
              "#d8576b"
             ],
             [
              0.6666666666666666,
              "#ed7953"
             ],
             [
              0.7777777777777778,
              "#fb9f3a"
             ],
             [
              0.8888888888888888,
              "#fdca26"
             ],
             [
              1,
              "#f0f921"
             ]
            ],
            "type": "contour"
           }
          ],
          "contourcarpet": [
           {
            "colorbar": {
             "outlinewidth": 0,
             "ticks": ""
            },
            "type": "contourcarpet"
           }
          ],
          "heatmap": [
           {
            "colorbar": {
             "outlinewidth": 0,
             "ticks": ""
            },
            "colorscale": [
             [
              0,
              "#0d0887"
             ],
             [
              0.1111111111111111,
              "#46039f"
             ],
             [
              0.2222222222222222,
              "#7201a8"
             ],
             [
              0.3333333333333333,
              "#9c179e"
             ],
             [
              0.4444444444444444,
              "#bd3786"
             ],
             [
              0.5555555555555556,
              "#d8576b"
             ],
             [
              0.6666666666666666,
              "#ed7953"
             ],
             [
              0.7777777777777778,
              "#fb9f3a"
             ],
             [
              0.8888888888888888,
              "#fdca26"
             ],
             [
              1,
              "#f0f921"
             ]
            ],
            "type": "heatmap"
           }
          ],
          "histogram": [
           {
            "marker": {
             "pattern": {
              "fillmode": "overlay",
              "size": 10,
              "solidity": 0.2
             }
            },
            "type": "histogram"
           }
          ],
          "histogram2d": [
           {
            "colorbar": {
             "outlinewidth": 0,
             "ticks": ""
            },
            "colorscale": [
             [
              0,
              "#0d0887"
             ],
             [
              0.1111111111111111,
              "#46039f"
             ],
             [
              0.2222222222222222,
              "#7201a8"
             ],
             [
              0.3333333333333333,
              "#9c179e"
             ],
             [
              0.4444444444444444,
              "#bd3786"
             ],
             [
              0.5555555555555556,
              "#d8576b"
             ],
             [
              0.6666666666666666,
              "#ed7953"
             ],
             [
              0.7777777777777778,
              "#fb9f3a"
             ],
             [
              0.8888888888888888,
              "#fdca26"
             ],
             [
              1,
              "#f0f921"
             ]
            ],
            "type": "histogram2d"
           }
          ],
          "histogram2dcontour": [
           {
            "colorbar": {
             "outlinewidth": 0,
             "ticks": ""
            },
            "colorscale": [
             [
              0,
              "#0d0887"
             ],
             [
              0.1111111111111111,
              "#46039f"
             ],
             [
              0.2222222222222222,
              "#7201a8"
             ],
             [
              0.3333333333333333,
              "#9c179e"
             ],
             [
              0.4444444444444444,
              "#bd3786"
             ],
             [
              0.5555555555555556,
              "#d8576b"
             ],
             [
              0.6666666666666666,
              "#ed7953"
             ],
             [
              0.7777777777777778,
              "#fb9f3a"
             ],
             [
              0.8888888888888888,
              "#fdca26"
             ],
             [
              1,
              "#f0f921"
             ]
            ],
            "type": "histogram2dcontour"
           }
          ],
          "mesh3d": [
           {
            "colorbar": {
             "outlinewidth": 0,
             "ticks": ""
            },
            "type": "mesh3d"
           }
          ],
          "parcoords": [
           {
            "line": {
             "colorbar": {
              "outlinewidth": 0,
              "ticks": ""
             }
            },
            "type": "parcoords"
           }
          ],
          "pie": [
           {
            "automargin": true,
            "type": "pie"
           }
          ],
          "scatter": [
           {
            "fillpattern": {
             "fillmode": "overlay",
             "size": 10,
             "solidity": 0.2
            },
            "type": "scatter"
           }
          ],
          "scatter3d": [
           {
            "line": {
             "colorbar": {
              "outlinewidth": 0,
              "ticks": ""
             }
            },
            "marker": {
             "colorbar": {
              "outlinewidth": 0,
              "ticks": ""
             }
            },
            "type": "scatter3d"
           }
          ],
          "scattercarpet": [
           {
            "marker": {
             "colorbar": {
              "outlinewidth": 0,
              "ticks": ""
             }
            },
            "type": "scattercarpet"
           }
          ],
          "scattergeo": [
           {
            "marker": {
             "colorbar": {
              "outlinewidth": 0,
              "ticks": ""
             }
            },
            "type": "scattergeo"
           }
          ],
          "scattergl": [
           {
            "marker": {
             "colorbar": {
              "outlinewidth": 0,
              "ticks": ""
             }
            },
            "type": "scattergl"
           }
          ],
          "scattermap": [
           {
            "marker": {
             "colorbar": {
              "outlinewidth": 0,
              "ticks": ""
             }
            },
            "type": "scattermap"
           }
          ],
          "scattermapbox": [
           {
            "marker": {
             "colorbar": {
              "outlinewidth": 0,
              "ticks": ""
             }
            },
            "type": "scattermapbox"
           }
          ],
          "scatterpolar": [
           {
            "marker": {
             "colorbar": {
              "outlinewidth": 0,
              "ticks": ""
             }
            },
            "type": "scatterpolar"
           }
          ],
          "scatterpolargl": [
           {
            "marker": {
             "colorbar": {
              "outlinewidth": 0,
              "ticks": ""
             }
            },
            "type": "scatterpolargl"
           }
          ],
          "scatterternary": [
           {
            "marker": {
             "colorbar": {
              "outlinewidth": 0,
              "ticks": ""
             }
            },
            "type": "scatterternary"
           }
          ],
          "surface": [
           {
            "colorbar": {
             "outlinewidth": 0,
             "ticks": ""
            },
            "colorscale": [
             [
              0,
              "#0d0887"
             ],
             [
              0.1111111111111111,
              "#46039f"
             ],
             [
              0.2222222222222222,
              "#7201a8"
             ],
             [
              0.3333333333333333,
              "#9c179e"
             ],
             [
              0.4444444444444444,
              "#bd3786"
             ],
             [
              0.5555555555555556,
              "#d8576b"
             ],
             [
              0.6666666666666666,
              "#ed7953"
             ],
             [
              0.7777777777777778,
              "#fb9f3a"
             ],
             [
              0.8888888888888888,
              "#fdca26"
             ],
             [
              1,
              "#f0f921"
             ]
            ],
            "type": "surface"
           }
          ],
          "table": [
           {
            "cells": {
             "fill": {
              "color": "#EBF0F8"
             },
             "line": {
              "color": "white"
             }
            },
            "header": {
             "fill": {
              "color": "#C8D4E3"
             },
             "line": {
              "color": "white"
             }
            },
            "type": "table"
           }
          ]
         },
         "layout": {
          "annotationdefaults": {
           "arrowcolor": "#2a3f5f",
           "arrowhead": 0,
           "arrowwidth": 1
          },
          "autotypenumbers": "strict",
          "coloraxis": {
           "colorbar": {
            "outlinewidth": 0,
            "ticks": ""
           }
          },
          "colorscale": {
           "diverging": [
            [
             0,
             "#8e0152"
            ],
            [
             0.1,
             "#c51b7d"
            ],
            [
             0.2,
             "#de77ae"
            ],
            [
             0.3,
             "#f1b6da"
            ],
            [
             0.4,
             "#fde0ef"
            ],
            [
             0.5,
             "#f7f7f7"
            ],
            [
             0.6,
             "#e6f5d0"
            ],
            [
             0.7,
             "#b8e186"
            ],
            [
             0.8,
             "#7fbc41"
            ],
            [
             0.9,
             "#4d9221"
            ],
            [
             1,
             "#276419"
            ]
           ],
           "sequential": [
            [
             0,
             "#0d0887"
            ],
            [
             0.1111111111111111,
             "#46039f"
            ],
            [
             0.2222222222222222,
             "#7201a8"
            ],
            [
             0.3333333333333333,
             "#9c179e"
            ],
            [
             0.4444444444444444,
             "#bd3786"
            ],
            [
             0.5555555555555556,
             "#d8576b"
            ],
            [
             0.6666666666666666,
             "#ed7953"
            ],
            [
             0.7777777777777778,
             "#fb9f3a"
            ],
            [
             0.8888888888888888,
             "#fdca26"
            ],
            [
             1,
             "#f0f921"
            ]
           ],
           "sequentialminus": [
            [
             0,
             "#0d0887"
            ],
            [
             0.1111111111111111,
             "#46039f"
            ],
            [
             0.2222222222222222,
             "#7201a8"
            ],
            [
             0.3333333333333333,
             "#9c179e"
            ],
            [
             0.4444444444444444,
             "#bd3786"
            ],
            [
             0.5555555555555556,
             "#d8576b"
            ],
            [
             0.6666666666666666,
             "#ed7953"
            ],
            [
             0.7777777777777778,
             "#fb9f3a"
            ],
            [
             0.8888888888888888,
             "#fdca26"
            ],
            [
             1,
             "#f0f921"
            ]
           ]
          },
          "colorway": [
           "#636efa",
           "#EF553B",
           "#00cc96",
           "#ab63fa",
           "#FFA15A",
           "#19d3f3",
           "#FF6692",
           "#B6E880",
           "#FF97FF",
           "#FECB52"
          ],
          "font": {
           "color": "#2a3f5f"
          },
          "geo": {
           "bgcolor": "white",
           "lakecolor": "white",
           "landcolor": "#E5ECF6",
           "showlakes": true,
           "showland": true,
           "subunitcolor": "white"
          },
          "hoverlabel": {
           "align": "left"
          },
          "hovermode": "closest",
          "mapbox": {
           "style": "light"
          },
          "paper_bgcolor": "white",
          "plot_bgcolor": "#E5ECF6",
          "polar": {
           "angularaxis": {
            "gridcolor": "white",
            "linecolor": "white",
            "ticks": ""
           },
           "bgcolor": "#E5ECF6",
           "radialaxis": {
            "gridcolor": "white",
            "linecolor": "white",
            "ticks": ""
           }
          },
          "scene": {
           "xaxis": {
            "backgroundcolor": "#E5ECF6",
            "gridcolor": "white",
            "gridwidth": 2,
            "linecolor": "white",
            "showbackground": true,
            "ticks": "",
            "zerolinecolor": "white"
           },
           "yaxis": {
            "backgroundcolor": "#E5ECF6",
            "gridcolor": "white",
            "gridwidth": 2,
            "linecolor": "white",
            "showbackground": true,
            "ticks": "",
            "zerolinecolor": "white"
           },
           "zaxis": {
            "backgroundcolor": "#E5ECF6",
            "gridcolor": "white",
            "gridwidth": 2,
            "linecolor": "white",
            "showbackground": true,
            "ticks": "",
            "zerolinecolor": "white"
           }
          },
          "shapedefaults": {
           "line": {
            "color": "#2a3f5f"
           }
          },
          "ternary": {
           "aaxis": {
            "gridcolor": "white",
            "linecolor": "white",
            "ticks": ""
           },
           "baxis": {
            "gridcolor": "white",
            "linecolor": "white",
            "ticks": ""
           },
           "bgcolor": "#E5ECF6",
           "caxis": {
            "gridcolor": "white",
            "linecolor": "white",
            "ticks": ""
           }
          },
          "title": {
           "x": 0.05
          },
          "xaxis": {
           "automargin": true,
           "gridcolor": "white",
           "linecolor": "white",
           "ticks": "",
           "title": {
            "standoff": 15
           },
           "zerolinecolor": "white",
           "zerolinewidth": 2
          },
          "yaxis": {
           "automargin": true,
           "gridcolor": "white",
           "linecolor": "white",
           "ticks": "",
           "title": {
            "standoff": 15
           },
           "zerolinecolor": "white",
           "zerolinewidth": 2
          }
         }
        },
        "title": {
         "text": "Happiness Score Distribution by Region"
        },
        "width": 800
       }
      },
      "image/png": "[encoded data removed]"
     },
     "metadata": {},
     "output_type": "display_data"
    }
   ],
   "source": [
    "# Convert Happiness Score to numeric\n",
    "df['Happiness Score'] = pd.to_numeric(df['Happiness Score'], errors='coerce')\n",
    "\n",
    "# Group by Region and sum Happiness Score\n",
    "region_happiness = df.groupby('Region', as_index=False)['Happiness Score'].sum()\n",
    "\n",
    "# Create pie chart using Plotly\n",
    "fig4 = px.pie(\n",
    "    region_happiness,\n",
    "    names='Region',\n",
    "    values='Happiness Score',\n",
    "    title='Happiness Score Distribution by Region',\n",
    "    width=800,\n",
    "    height=600\n",
    ")\n",
    "\n",
    "# Show the figure\n",
    "fig4.show()"
   ]
  },
  {
   "cell_type": "markdown",
   "id": "9b289259-57cb-41f9-88cf-f0dfa9d29c48",
   "metadata": {},
   "source": [
    "Write a Plotly code that creates a map named fig5 to display GDP per capita of countries and include Healthy Life Expectancy to be shown as a tooltip."
   ]
  },
  {
   "cell_type": "code",
   "execution_count": 27,
   "id": "4117676e-a5c7-4af0-98ae-1ea3f7c5842b",
   "metadata": {},
   "outputs": [
    {
     "data": {
      "application/vnd.plotly.v1+json": {
       "config": {
        "plotlyServerURL": "https://plot.ly"
       },
       "data": [
        {
         "coloraxis": "coloraxis",
         "customdata": {
          "_inputArray": [
           {
            "0": 0.79504,
            "1": 1.44178
           },
           {
            "0": 0.86303,
            "1": 1.52733
           },
           {
            "0": 0.86733,
            "1": 1.42666
           },
           {
            "0": 0.79579,
            "1": 1.57744
           },
           {
            "0": 0.81091,
            "1": 1.40598
           },
           {
            "0": 0.8276,
            "1": 1.44015
           },
           {
            "0": 0.81231,
            "1": 1.46468
           },
           {
            "0": 0.83096,
            "1": 1.36066
           },
           {
            "0": 0.8512,
            "1": 1.44443
           },
           {
            "0": 0.83121,
            "1": 1.45181
           },
           {
            "0": 0.84917,
            "1": 1.33766
           },
           {
            "0": 0.80565,
            "1": 1.45038
           },
           {
            "0": 0.5533422727272727,
            "1": 1.50796
           },
           {
            "0": 0.76146,
            "1": 1.06879
           },
           {
            "0": 0.77758,
            "1": 1.35943
           },
           {
            "0": 0.81487,
            "1": 1.44787
           },
           {
            "0": 0.61415,
            "1": 1.08754
           },
           {
            "0": 0.81959,
            "1": 1.42539
           },
           {
            "0": 0.81455,
            "1": 1.48341
           },
           {
            "0": 0.84542,
            "1": 1.69752
           },
           {
            "0": 0.71143,
            "1": 1.11508
           },
           {
            "0": 0.94719,
            "1": 1.64555
           },
           {
            "0": 0.80991,
            "1": 1.40283
           },
           {
            "0": 0.81883,
            "1": 1.2167
           },
           {
            "0": 0.70835,
            "1": 1.18306
           },
           {
            "0": 0.69711,
            "1": 1.15137
           },
           {
            "0": 0.76376,
            "1": 1.30915
           },
           {
            "0": 0.72993,
            "1": 1.57352
           },
           {
            "0": 0.72183,
            "1": 1.18157
           },
           {
            "0": 0.80315,
            "1": 1.30782
           },
           {
            "0": 0.59659,
            "1": 1.03032
           },
           {
            "0": 0.83795,
            "1": 1.39488
           },
           {
            "0": 0.64915,
            "1": 1.0893
           },
           {
            "0": 0.59267,
            "1": 1.48953
           },
           {
            "0": 0.79565,
            "1": 1.39729
           },
           {
            "0": 0.71723,
            "1": 1.82427
           },
           {
            "0": 0.87896,
            "1": 1.34253
           },
           {
            "0": 0.61804,
            "1": 1.05266
           },
           {
            "0": 0.54039,
            "1": 0.83454
           },
           {
            "0": 0.50933,
            "1": 1.09686
           },
           {
            "0": 0.63569,
            "1": 1.61714
           },
           {
            "0": 0.65696,
            "1": 0.951772064516129
           },
           {
            "0": 0.52608,
            "1": 1.32572
           },
           {
            "0": 0.61904,
            "1": 1.13367
           },
           {
            "0": 0.5533422727272727,
            "1": 1.27973
           },
           {
            "0": 0.596,
            "1": 0.8737
           },
           {
            "0": 0.62366,
            "1": 1.25142
           },
           {
            "0": 0.65213,
            "1": 0.69384
           },
           {
            "0": 0.50163,
            "1": 0.73591
           },
           {
            "0": 0.85102,
            "1": 1.35495
           },
           {
            "0": 0.68613,
            "1": 0.97306
           },
           {
            "0": 0.45569,
            "1": 0.87616
           },
           {
            "0": 0.91491,
            "1": 1.38007
           },
           {
            "0": 0.57386,
            "1": 1.22943
           },
           {
            "0": 0.52309,
            "1": 0.69177
           },
           {
            "0": 0.58991,
            "1": 1.23228
           },
           {
            "0": 0.69058,
            "1": 1.24585
           },
           {
            "0": 0.88645,
            "1": 1.35948
           },
           {
            "0": 0.4697,
            "1": 0.951772064516129
           },
           {
            "0": 0.64674,
            "1": 1.2692
           },
           {
            "0": 0.63104,
            "1": 1.13062
           },
           {
            "0": 0.84142,
            "1": 1.31141
           },
           {
            "0": 0.79151,
            "1": 1.29947
           },
           {
            "0": 0.62994,
            "1": 0.99602
           },
           {
            "0": 0.44006,
            "1": 1.08017
           },
           {
            "0": 0.66189,
            "1": 1.14372
           },
           {
            "0": 0.52304,
            "1": 1.06688
           },
           {
            "0": 0.63952,
            "1": 1.21788
           },
           {
            "0": 0.5533422727272727,
            "1": 1.31857
           },
           {
            "0": 0.58295,
            "1": 0.89373
           },
           {
            "0": 0.67602,
            "1": 1.1697
           },
           {
            "0": 0.68098,
            "1": 1.27964
           },
           {
            "0": 0.59469,
            "1": 0.89333
           },
           {
            "0": 0.70524,
            "1": 1.18649
           },
           {
            "0": 0.95277,
            "1": 1.5107
           },
           {
            "0": 0.11466,
            "1": 0
           },
           {
            "0": 0.54,
            "1": 0.90145
           },
           {
            "0": 0.64718,
            "1": 1.16492
           },
           {
            "0": 0.49374,
            "1": 0.95104
           },
           {
            "0": 0.60712,
            "1": 0.99673
           },
           {
            "0": 0.54504,
            "1": 1.12373
           },
           {
            "0": 0.47036,
            "1": 0.81217
           },
           {
            "0": 0.73561,
            "1": 1.0278
           },
           {
            "0": 0.49759,
            "1": 0.8527
           },
           {
            "0": 0.55449,
            "1": 0.56044
           },
           {
            "0": 0.6458,
            "1": 1.03437
           },
           {
            "0": 0.70766,
            "1": 0.93383
           },
           {
            "0": 0.63533,
            "1": 1.07838
           },
           {
            "0": 0.57669,
            "1": 1.02787
           },
           {
            "0": 0.59471,
            "1": 0.84058
           },
           {
            "0": 0.67608,
            "1": 1.24142
           },
           {
            "0": 0.40306,
            "1": 0.68816
           },
           {
            "0": 0.76171,
            "1": 1.12268
           },
           {
            "0": 0.79363,
            "1": 1.27607
           },
           {
            "0": 0.64738,
            "1": 1.0193
           },
           {
            "0": 0.66157,
            "1": 0.74037
           },
           {
            "0": 0.33108,
            "1": 0.25558
           },
           {
            "0": 0.59577,
            "1": 0.97724
           },
           {
            "0": 0.80029,
            "1": 1.24886
           },
           {
            "0": 0.53119,
            "1": 0.48835
           },
           {
            "0": 0.55469,
            "1": 0.98853
           },
           {
            "0": 0.38291,
            "1": 0.68042
           },
           {
            "0": 0.05108,
            "1": 0.75216
           },
           {
            "0": 0.58383,
            "1": 0.69429
           },
           {
            "0": 0.64232,
            "1": 1.11758
           },
           {
            "0": 0.23573,
            "1": 0.61202
           },
           {
            "0": 0.50073,
            "1": 0.44626
           },
           {
            "0": 0.56844,
            "1": 0.67024
           },
           {
            "0": 0.73007,
            "1": 0.9553
           },
           {
            "0": 0.52989,
            "1": 0.54177
           },
           {
            "0": 0,
            "1": 0.36485
           },
           {
            "0": 0.51076,
            "1": 1.07474
           },
           {
            "0": 0.34745,
            "1": 0.93287
           },
           {
            "0": 0.12698,
            "1": 0.52497
           },
           {
            "0": 0.34578,
            "1": 0.29283
           },
           {
            "0": 0.18611,
            "1": 1.02416
           },
           {
            "0": 0.62007,
            "1": 0.97318
           },
           {
            "0": 0.45091,
            "1": 0.74036
           },
           {
            "0": 0.3988,
            "1": 0.34112
           },
           {
            "0": 0.52116,
            "1": 0.95395
           },
           {
            "0": 0.64083,
            "1": 0.86086
           },
           {
            "0": 0.30147,
            "1": 0.52267
           },
           {
            "0": 0.58628,
            "1": 0.87287
           },
           {
            "0": 0.29681,
            "1": 0.63107
           },
           {
            "0": 0.188,
            "1": 0.05661
           },
           {
            "0": 0.64035,
            "1": 0.83792
           },
           {
            "0": 0.28212,
            "1": 0.77109
           },
           {
            "0": 0.40457,
            "1": 0.44314
           },
           {
            "0": 0.67806,
            "1": 1.11306
           },
           {
            "0": 0.28639,
            "1": 0.61391
           },
           {
            "0": 0.1595,
            "1": 0.35041
           },
           {
            "0": 0.29364,
            "1": 0.08709
           },
           {
            "0": 0.29759,
            "1": 0.63069
           },
           {
            "0": 0.3494,
            "1": 1.15851
           },
           {
            "0": 0.16347,
            "1": 0.31292
           },
           {
            "0": 0.27494,
            "1": 0.34097
           },
           {
            "0": 0.34752,
            "1": 1.09426
           },
           {
            "0": 0.29981,
            "1": 0.27509
           },
           {
            "0": 0.04476,
            "1": 0.55507
           },
           {
            "0": 0.42494,
            "1": 0.55604
           },
           {
            "0": 0.04991,
            "1": 0.84731
           },
           {
            "0": 0.26162,
            "1": 0.1327
           },
           {
            "0": 0.15781,
            "1": 0.39394
           },
           {
            "0": 0.03824,
            "1": 0.42214
           },
           {
            "0": 0.21297,
            "1": 0.31995
           },
           {
            "0": 0.19625,
            "1": 0.34719
           },
           {
            "0": 0.31048,
            "1": 0.57939
           },
           {
            "0": 0.37109,
            "1": 0.27954
           },
           {
            "0": 0.357,
            "1": 0.47155
           },
           {
            "0": 0.23165,
            "1": 0.10706
           },
           {
            "0": 0.18829,
            "1": 0.22415
           },
           {
            "0": 0.31865,
            "1": 0.32846
           },
           {
            "0": 0.21028,
            "1": 0.39499
           },
           {
            "0": 0.17344,
            "1": 0.38227
           },
           {
            "0": 0.24811,
            "1": 0.28123
           },
           {
            "0": 0.62994,
            "1": 0.74719
           },
           {
            "0": 0.15747,
            "1": 0.06831
           }
          ],
          "bdata": "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",
          "dtype": "f8",
          "shape": "157, 2"
         },
         "geo": "geo",
         "hovertemplate": "<b>%{hovertext}</b><br><br>Country=%{location}<br>Health (Life Expectancy)=%{customdata[0]}<br>Economy (GDP per Capita)=%{z:.2f}<extra></extra>",
         "hovertext": [
          "Denmark",
          "Switzerland",
          "Iceland",
          "Norway",
          "Finland",
          "Canada",
          "Netherlands",
          "New Zealand",
          "Australia",
          "Sweden",
          "Israel",
          "Austria",
          "United States",
          "Costa Rica",
          "Puerto Rico",
          "Germany",
          "Brazil",
          "Belgium",
          "Ireland",
          "Luxembourg",
          "Mexico",
          "Singapore",
          "United Kingdom",
          "Chile",
          "Panama",
          "Argentina",
          "Czech Republic",
          "United Arab Emirates",
          "Uruguay",
          "Malta",
          "Colombia",
          "France",
          "Thailand",
          "Saudi Arabia",
          "Taiwan",
          "Qatar",
          "Spain",
          "Algeria",
          "Guatemala",
          "Suriname",
          "Kuwait",
          "Bahrain",
          "Trinidad and Tobago",
          "Venezuela",
          "Slovakia",
          "El Salvador",
          "Malaysia",
          "Nicaragua",
          "Uzbekistan",
          "Italy",
          "Ecuador",
          "Belize",
          "Japan",
          "Kazakhstan",
          "Moldova",
          "Russia",
          "Poland",
          "South Korea",
          "Bolivia",
          "Lithuania",
          "Belarus",
          "North Cyprus",
          "Slovenia",
          "Peru",
          "Turkmenistan",
          "Mauritius",
          "Libya",
          "Latvia",
          "Cyprus",
          "Paraguay",
          "Romania",
          "Estonia",
          "Jamaica",
          "Croatia",
          "Hong Kong",
          "Somalia",
          "Kosovo",
          "Turkey",
          "Indonesia",
          "Jordan",
          "Azerbaijan",
          "Philippines",
          "China",
          "Bhutan",
          "Kyrgyzstan",
          "Serbia",
          "Bosnia and Herzegovina",
          "Montenegro",
          "Dominican Republic",
          "Morocco",
          "Hungary",
          "Pakistan",
          "Lebanon",
          "Portugal",
          "Macedonia",
          "Vietnam",
          "Somaliland Region",
          "Tunisia",
          "Greece",
          "Tajikistan",
          "Mongolia",
          "Laos",
          "Nigeria",
          "Honduras",
          "Iran",
          "Zambia",
          "Nepal",
          "Palestinian Territories",
          "Albania",
          "Bangladesh",
          "Sierra Leone",
          "Iraq",
          "Namibia",
          "Cameroon",
          "Ethiopia",
          "South Africa",
          "Sri Lanka",
          "India",
          "Myanmar",
          "Egypt",
          "Armenia",
          "Kenya",
          "Ukraine",
          "Ghana",
          "Congo (Kinshasa)",
          "Georgia",
          "Congo (Brazzaville)",
          "Senegal",
          "Bulgaria",
          "Mauritania",
          "Zimbabwe",
          "Malawi",
          "Sudan",
          "Gabon",
          "Mali",
          "Haiti",
          "Botswana",
          "Comoros",
          "Ivory Coast",
          "Cambodia",
          "Angola",
          "Niger",
          "South Sudan",
          "Chad",
          "Burkina Faso",
          "Uganda",
          "Yemen",
          "Madagascar",
          "Tanzania",
          "Liberia",
          "Guinea",
          "Rwanda",
          "Benin",
          "Afghanistan",
          "Togo",
          "Syria",
          "Burundi"
         ],
         "locationmode": "country names",
         "locations": [
          "Denmark",
          "Switzerland",
          "Iceland",
          "Norway",
          "Finland",
          "Canada",
          "Netherlands",
          "New Zealand",
          "Australia",
          "Sweden",
          "Israel",
          "Austria",
          "United States",
          "Costa Rica",
          "Puerto Rico",
          "Germany",
          "Brazil",
          "Belgium",
          "Ireland",
          "Luxembourg",
          "Mexico",
          "Singapore",
          "United Kingdom",
          "Chile",
          "Panama",
          "Argentina",
          "Czech Republic",
          "United Arab Emirates",
          "Uruguay",
          "Malta",
          "Colombia",
          "France",
          "Thailand",
          "Saudi Arabia",
          "Taiwan",
          "Qatar",
          "Spain",
          "Algeria",
          "Guatemala",
          "Suriname",
          "Kuwait",
          "Bahrain",
          "Trinidad and Tobago",
          "Venezuela",
          "Slovakia",
          "El Salvador",
          "Malaysia",
          "Nicaragua",
          "Uzbekistan",
          "Italy",
          "Ecuador",
          "Belize",
          "Japan",
          "Kazakhstan",
          "Moldova",
          "Russia",
          "Poland",
          "South Korea",
          "Bolivia",
          "Lithuania",
          "Belarus",
          "North Cyprus",
          "Slovenia",
          "Peru",
          "Turkmenistan",
          "Mauritius",
          "Libya",
          "Latvia",
          "Cyprus",
          "Paraguay",
          "Romania",
          "Estonia",
          "Jamaica",
          "Croatia",
          "Hong Kong",
          "Somalia",
          "Kosovo",
          "Turkey",
          "Indonesia",
          "Jordan",
          "Azerbaijan",
          "Philippines",
          "China",
          "Bhutan",
          "Kyrgyzstan",
          "Serbia",
          "Bosnia and Herzegovina",
          "Montenegro",
          "Dominican Republic",
          "Morocco",
          "Hungary",
          "Pakistan",
          "Lebanon",
          "Portugal",
          "Macedonia",
          "Vietnam",
          "Somaliland Region",
          "Tunisia",
          "Greece",
          "Tajikistan",
          "Mongolia",
          "Laos",
          "Nigeria",
          "Honduras",
          "Iran",
          "Zambia",
          "Nepal",
          "Palestinian Territories",
          "Albania",
          "Bangladesh",
          "Sierra Leone",
          "Iraq",
          "Namibia",
          "Cameroon",
          "Ethiopia",
          "South Africa",
          "Sri Lanka",
          "India",
          "Myanmar",
          "Egypt",
          "Armenia",
          "Kenya",
          "Ukraine",
          "Ghana",
          "Congo (Kinshasa)",
          "Georgia",
          "Congo (Brazzaville)",
          "Senegal",
          "Bulgaria",
          "Mauritania",
          "Zimbabwe",
          "Malawi",
          "Sudan",
          "Gabon",
          "Mali",
          "Haiti",
          "Botswana",
          "Comoros",
          "Ivory Coast",
          "Cambodia",
          "Angola",
          "Niger",
          "South Sudan",
          "Chad",
          "Burkina Faso",
          "Uganda",
          "Yemen",
          "Madagascar",
          "Tanzania",
          "Liberia",
          "Guinea",
          "Rwanda",
          "Benin",
          "Afghanistan",
          "Togo",
          "Syria",
          "Burundi"
         ],
         "name": "",
         "type": "choropleth",
         "z": {
          "_inputArray": {
           "0": 1.44178,
           "1": 1.52733,
           "10": 1.33766,
           "100": 0.98853,
           "101": 0.68042,
           "102": 0.75216,
           "103": 0.69429,
           "104": 1.11758,
           "105": 0.61202,
           "106": 0.44626,
           "107": 0.67024,
           "108": 0.9553,
           "109": 0.54177,
           "11": 1.45038,
           "110": 0.36485,
           "111": 1.07474,
           "112": 0.93287,
           "113": 0.52497,
           "114": 0.29283,
           "115": 1.02416,
           "116": 0.97318,
           "117": 0.74036,
           "118": 0.34112,
           "119": 0.95395,
           "12": 1.50796,
           "120": 0.86086,
           "121": 0.52267,
           "122": 0.87287,
           "123": 0.63107,
           "124": 0.05661,
           "125": 0.83792,
           "126": 0.77109,
           "127": 0.44314,
           "128": 1.11306,
           "129": 0.61391,
           "13": 1.06879,
           "130": 0.35041,
           "131": 0.08709,
           "132": 0.63069,
           "133": 1.15851,
           "134": 0.31292,
           "135": 0.34097,
           "136": 1.09426,
           "137": 0.27509,
           "138": 0.55507,
           "139": 0.55604,
           "14": 1.35943,
           "140": 0.84731,
           "141": 0.1327,
           "142": 0.39394,
           "143": 0.42214,
           "144": 0.31995,
           "145": 0.34719,
           "146": 0.57939,
           "147": 0.27954,
           "148": 0.47155,
           "149": 0.10706,
           "15": 1.44787,
           "150": 0.22415,
           "151": 0.32846,
           "152": 0.39499,
           "153": 0.38227,
           "154": 0.28123,
           "155": 0.74719,
           "156": 0.06831,
           "16": 1.08754,
           "17": 1.42539,
           "18": 1.48341,
           "19": 1.69752,
           "2": 1.42666,
           "20": 1.11508,
           "21": 1.64555,
           "22": 1.40283,
           "23": 1.2167,
           "24": 1.18306,
           "25": 1.15137,
           "26": 1.30915,
           "27": 1.57352,
           "28": 1.18157,
           "29": 1.30782,
           "3": 1.57744,
           "30": 1.03032,
           "31": 1.39488,
           "32": 1.0893,
           "33": 1.48953,
           "34": 1.39729,
           "35": 1.82427,
           "36": 1.34253,
           "37": 1.05266,
           "38": 0.83454,
           "39": 1.09686,
           "4": 1.40598,
           "40": 1.61714,
           "41": 0.951772064516129,
           "42": 1.32572,
           "43": 1.13367,
           "44": 1.27973,
           "45": 0.8737,
           "46": 1.25142,
           "47": 0.69384,
           "48": 0.73591,
           "49": 1.35495,
           "5": 1.44015,
           "50": 0.97306,
           "51": 0.87616,
           "52": 1.38007,
           "53": 1.22943,
           "54": 0.69177,
           "55": 1.23228,
           "56": 1.24585,
           "57": 1.35948,
           "58": 0.951772064516129,
           "59": 1.2692,
           "6": 1.46468,
           "60": 1.13062,
           "61": 1.31141,
           "62": 1.29947,
           "63": 0.99602,
           "64": 1.08017,
           "65": 1.14372,
           "66": 1.06688,
           "67": 1.21788,
           "68": 1.31857,
           "69": 0.89373,
           "7": 1.36066,
           "70": 1.1697,
           "71": 1.27964,
           "72": 0.89333,
           "73": 1.18649,
           "74": 1.5107,
           "75": 0,
           "76": 0.90145,
           "77": 1.16492,
           "78": 0.95104,
           "79": 0.99673,
           "8": 1.44443,
           "80": 1.12373,
           "81": 0.81217,
           "82": 1.0278,
           "83": 0.8527,
           "84": 0.56044,
           "85": 1.03437,
           "86": 0.93383,
           "87": 1.07838,
           "88": 1.02787,
           "89": 0.84058,
           "9": 1.45181,
           "90": 1.24142,
           "91": 0.68816,
           "92": 1.12268,
           "93": 1.27607,
           "94": 1.0193,
           "95": 0.74037,
           "96": 0.25558,
           "97": 0.97724,
           "98": 1.24886,
           "99": 0.48835,
           "bdata": "Gm7A54cR9z/kMQOV8W/4P4guqG+Z0/Y/k2+2uTE9+T8CSG3i5H72P7RZ9bnaCvc/Oq+xS1Rv9z8Tm49rQ8X1P87HtaFiHPc/mBdgH5069z+CrRIsDmf1PxRcrKjBNPc/jdE6qpog+D9gqwSLwxnxP3E486s5wPU/mMCtu3kq9z8teNFXkGbxPx+6oL5lzvY/I/PIHwy89z8M5US7Cin7P2XHRiBe1/E/wOyePCxU+j8ZkL3e/XH2P/KwUGuad/M/y0qTUtDt8j9Ah/nyAmzyPzXvOEVH8vQ/d6G5TiMt+T+d9L7xtefyPyLgEKrU7PQ/saIG0zB88D/9gt2wbVH2P1mGONbFbfE/95LGaB3V9z8IclDCTFv2P8cuUb01MP0/0GG+vAB79T/y6hwDstfwP9uF5jqNtOo/IqZEEr2M8T/k2lAxzt/5P0z7SrDqdO4/LnO6LCY29T8WTWcngyPyP31cGyrGefQ/hXzQs1n16z8S91j60AX0PzIDlfHvM+Y/W5TZIJOM5z92cRsN4K31P952oblOI+8/DAdCsoAJ7D8wDcNHxBT2P12Kq8q+q/M/UFPL1voi5j/zPLg7a7fzP6yL22gA7/M/qg65GW7A9T9M+0qw6nTuP8pUwaikTvQ/nkFD/wQX8j+WW1oNifv0P0IhAg6hyvQ/cy7FVWXf7z/V7IFWYEjxP3h/vFetTPI/ixpMw/AR8T9cPSe9b3zzP5vJN9vcGPU/04cuqG+Z7D9lGeJYF7fyP3506spnefQ/SiTRyyiW7D8kfzDw3PvyP0ATYcPTK/g/AAAAAAAAAACbVZ+rrdjsPxZNZyeDo/I/yQImcOtu7j+FJR5QNuXvP5eL+E7M+vE/r1qZ8Ev96T/EQq1p3nHwPwyTqYJRSes/Atnr3R/v4T+Uap+Ox4zwP/3BwHPv4e0/U5EKYwtB8T/goSjQJ3LwP2d+NQcI5uo/6ZrJN9vc8z+hSs0eaAXmP/T4vU1/9vE/7YFWYMhq9D87AU2EDU/wP4wQHm0csec/Xb9gN2xb0D8v+grSjEXvP16FlJ9U+/M/NxrAWyBB3z8ZraOqCaLvPxJr8SkAxuU/4X8r2bER6D8rE36pnzfmP2+e6pCb4fE/9u6P96qV4z9W1GAaho/cP8ISDyibcuU/Ns07TtGR7j+Dhv4JLlbhP7aEfNCzWdc/pz/7kSIy8T+1bK0vEtrtPyMyrOKNzOA/WWlSCrq90j8X8Z2Y9WLwP4fhI2JKJO8/qYdodAex5z++vAD76NTVP0mdgCbChu4/6udNRSqM6z/SNZNvtrngP8oa9RCN7us/NpNvtrkx5D95zEBl/PusPxxClZo90Oo/eLmI78Ss6D8GKuPfZ1zcP6zFpwAYz/E/2v6VlSal4z8+P4wQHm3WPwgDz72HS7Y/dEF9y5wu5D9hbCHIQYnyP57qkJvhBtQ/GLK61XPS1T+nIhXGFoLxP5c5XRYTm9E/+rMfKSLD4T8lkuhlFMvhPz5cctwpHes/B/AWSFD8wD/1hCUeUDbZPxVXlX1XBNs/mbuWkA961D8q499nXDjWP18ktOVciuI/MiB7vfvj0T92cRsN4C3eP9Wytb5IaLs/xf6ye/KwzD+E04IXfQXVP4HPDyOER9k/nnsPlxx32D9y3CkdrP/RP2K+vAD76Oc/6WD9n8N8sT8=",
           "dtype": "f8",
           "shape": "157"
          },
          "bdata": "Gm7A54cR9z/kMQOV8W/4P4guqG+Z0/Y/k2+2uTE9+T8CSG3i5H72P7RZ9bnaCvc/Oq+xS1Rv9z8Tm49rQ8X1P87HtaFiHPc/mBdgH5069z+CrRIsDmf1PxRcrKjBNPc/jdE6qpog+D9gqwSLwxnxP3E486s5wPU/mMCtu3kq9z8teNFXkGbxPx+6oL5lzvY/I/PIHwy89z8M5US7Cin7P2XHRiBe1/E/wOyePCxU+j8ZkL3e/XH2P/KwUGuad/M/y0qTUtDt8j9Ah/nyAmzyPzXvOEVH8vQ/d6G5TiMt+T+d9L7xtefyPyLgEKrU7PQ/saIG0zB88D/9gt2wbVH2P1mGONbFbfE/95LGaB3V9z8IclDCTFv2P8cuUb01MP0/0GG+vAB79T/y6hwDstfwP9uF5jqNtOo/IqZEEr2M8T/k2lAxzt/5P0z7SrDqdO4/LnO6LCY29T8WTWcngyPyP31cGyrGefQ/hXzQs1n16z8S91j60AX0PzIDlfHvM+Y/W5TZIJOM5z92cRsN4K31P952oblOI+8/DAdCsoAJ7D8wDcNHxBT2P12Kq8q+q/M/UFPL1voi5j/zPLg7a7fzP6yL22gA7/M/qg65GW7A9T9M+0qw6nTuP8pUwaikTvQ/nkFD/wQX8j+WW1oNifv0P0IhAg6hyvQ/cy7FVWXf7z/V7IFWYEjxP3h/vFetTPI/ixpMw/AR8T9cPSe9b3zzP5vJN9vcGPU/04cuqG+Z7D9lGeJYF7fyP3506spnefQ/SiTRyyiW7D8kfzDw3PvyP0ATYcPTK/g/AAAAAAAAAACbVZ+rrdjsPxZNZyeDo/I/yQImcOtu7j+FJR5QNuXvP5eL+E7M+vE/r1qZ8Ev96T/EQq1p3nHwPwyTqYJRSes/Atnr3R/v4T+Uap+Ox4zwP/3BwHPv4e0/U5EKYwtB8T/goSjQJ3LwP2d+NQcI5uo/6ZrJN9vc8z+hSs0eaAXmP/T4vU1/9vE/7YFWYMhq9D87AU2EDU/wP4wQHm0csec/Xb9gN2xb0D8v+grSjEXvP16FlJ9U+/M/NxrAWyBB3z8ZraOqCaLvPxJr8SkAxuU/4X8r2bER6D8rE36pnzfmP2+e6pCb4fE/9u6P96qV4z9W1GAaho/cP8ISDyibcuU/Ns07TtGR7j+Dhv4JLlbhP7aEfNCzWdc/pz/7kSIy8T+1bK0vEtrtPyMyrOKNzOA/WWlSCrq90j8X8Z2Y9WLwP4fhI2JKJO8/qYdodAex5z++vAD76NTVP0mdgCbChu4/6udNRSqM6z/SNZNvtrngP8oa9RCN7us/NpNvtrkx5D95zEBl/PusPxxClZo90Oo/eLmI78Ss6D8GKuPfZ1zcP6zFpwAYz/E/2v6VlSal4z8+P4wQHm3WPwgDz72HS7Y/dEF9y5wu5D9hbCHIQYnyP57qkJvhBtQ/GLK61XPS1T+nIhXGFoLxP5c5XRYTm9E/+rMfKSLD4T8lkuhlFMvhPz5cctwpHes/B/AWSFD8wD/1hCUeUDbZPxVXlX1XBNs/mbuWkA961D8q499nXDjWP18ktOVciuI/MiB7vfvj0T92cRsN4C3eP9Wytb5IaLs/xf6ye/KwzD+E04IXfQXVP4HPDyOER9k/nnsPlxx32D9y3CkdrP/RP2K+vAD76Oc/6WD9n8N8sT8=",
          "dtype": "f8"
         }
        }
       ],
       "layout": {
        "coloraxis": {
         "colorbar": {
          "title": {
           "text": "Economy (GDP per Capita)"
          }
         },
         "colorscale": [
          [
           0,
           "#440154"
          ],
          [
           0.1111111111111111,
           "#482878"
          ],
          [
           0.2222222222222222,
           "#3e4989"
          ],
          [
           0.3333333333333333,
           "#31688e"
          ],
          [
           0.4444444444444444,
           "#26828e"
          ],
          [
           0.5555555555555556,
           "#1f9e89"
          ],
          [
           0.6666666666666666,
           "#35b779"
          ],
          [
           0.7777777777777778,
           "#6ece58"
          ],
          [
           0.8888888888888888,
           "#b5de2b"
          ],
          [
           1,
           "#fde725"
          ]
         ]
        },
        "geo": {
         "center": {
          "lat": -15.92386154430057,
          "lon": -5.413278486872262
         },
         "domain": {
          "x": [
           0,
           1
          ],
          "y": [
           0,
           1
          ]
         },
         "projection": {
          "rotation": {
           "lon": -5.413278486872262
          },
          "scale": 1.5157165665103982
         }
        },
        "height": 600,
        "legend": {
         "tracegroupgap": 0
        },
        "template": {
         "data": {
          "bar": [
           {
            "error_x": {
             "color": "#2a3f5f"
            },
            "error_y": {
             "color": "#2a3f5f"
            },
            "marker": {
             "line": {
              "color": "#E5ECF6",
              "width": 0.5
             },
             "pattern": {
              "fillmode": "overlay",
              "size": 10,
              "solidity": 0.2
             }
            },
            "type": "bar"
           }
          ],
          "barpolar": [
           {
            "marker": {
             "line": {
              "color": "#E5ECF6",
              "width": 0.5
             },
             "pattern": {
              "fillmode": "overlay",
              "size": 10,
              "solidity": 0.2
             }
            },
            "type": "barpolar"
           }
          ],
          "carpet": [
           {
            "aaxis": {
             "endlinecolor": "#2a3f5f",
             "gridcolor": "white",
             "linecolor": "white",
             "minorgridcolor": "white",
             "startlinecolor": "#2a3f5f"
            },
            "baxis": {
             "endlinecolor": "#2a3f5f",
             "gridcolor": "white",
             "linecolor": "white",
             "minorgridcolor": "white",
             "startlinecolor": "#2a3f5f"
            },
            "type": "carpet"
           }
          ],
          "choropleth": [
           {
            "colorbar": {
             "outlinewidth": 0,
             "ticks": ""
            },
            "type": "choropleth"
           }
          ],
          "contour": [
           {
            "colorbar": {
             "outlinewidth": 0,
             "ticks": ""
            },
            "colorscale": [
             [
              0,
              "#0d0887"
             ],
             [
              0.1111111111111111,
              "#46039f"
             ],
             [
              0.2222222222222222,
              "#7201a8"
             ],
             [
              0.3333333333333333,
              "#9c179e"
             ],
             [
              0.4444444444444444,
              "#bd3786"
             ],
             [
              0.5555555555555556,
              "#d8576b"
             ],
             [
              0.6666666666666666,
              "#ed7953"
             ],
             [
              0.7777777777777778,
              "#fb9f3a"
             ],
             [
              0.8888888888888888,
              "#fdca26"
             ],
             [
              1,
              "#f0f921"
             ]
            ],
            "type": "contour"
           }
          ],
          "contourcarpet": [
           {
            "colorbar": {
             "outlinewidth": 0,
             "ticks": ""
            },
            "type": "contourcarpet"
           }
          ],
          "heatmap": [
           {
            "colorbar": {
             "outlinewidth": 0,
             "ticks": ""
            },
            "colorscale": [
             [
              0,
              "#0d0887"
             ],
             [
              0.1111111111111111,
              "#46039f"
             ],
             [
              0.2222222222222222,
              "#7201a8"
             ],
             [
              0.3333333333333333,
              "#9c179e"
             ],
             [
              0.4444444444444444,
              "#bd3786"
             ],
             [
              0.5555555555555556,
              "#d8576b"
             ],
             [
              0.6666666666666666,
              "#ed7953"
             ],
             [
              0.7777777777777778,
              "#fb9f3a"
             ],
             [
              0.8888888888888888,
              "#fdca26"
             ],
             [
              1,
              "#f0f921"
             ]
            ],
            "type": "heatmap"
           }
          ],
          "histogram": [
           {
            "marker": {
             "pattern": {
              "fillmode": "overlay",
              "size": 10,
              "solidity": 0.2
             }
            },
            "type": "histogram"
           }
          ],
          "histogram2d": [
           {
            "colorbar": {
             "outlinewidth": 0,
             "ticks": ""
            },
            "colorscale": [
             [
              0,
              "#0d0887"
             ],
             [
              0.1111111111111111,
              "#46039f"
             ],
             [
              0.2222222222222222,
              "#7201a8"
             ],
             [
              0.3333333333333333,
              "#9c179e"
             ],
             [
              0.4444444444444444,
              "#bd3786"
             ],
             [
              0.5555555555555556,
              "#d8576b"
             ],
             [
              0.6666666666666666,
              "#ed7953"
             ],
             [
              0.7777777777777778,
              "#fb9f3a"
             ],
             [
              0.8888888888888888,
              "#fdca26"
             ],
             [
              1,
              "#f0f921"
             ]
            ],
            "type": "histogram2d"
           }
          ],
          "histogram2dcontour": [
           {
            "colorbar": {
             "outlinewidth": 0,
             "ticks": ""
            },
            "colorscale": [
             [
              0,
              "#0d0887"
             ],
             [
              0.1111111111111111,
              "#46039f"
             ],
             [
              0.2222222222222222,
              "#7201a8"
             ],
             [
              0.3333333333333333,
              "#9c179e"
             ],
             [
              0.4444444444444444,
              "#bd3786"
             ],
             [
              0.5555555555555556,
              "#d8576b"
             ],
             [
              0.6666666666666666,
              "#ed7953"
             ],
             [
              0.7777777777777778,
              "#fb9f3a"
             ],
             [
              0.8888888888888888,
              "#fdca26"
             ],
             [
              1,
              "#f0f921"
             ]
            ],
            "type": "histogram2dcontour"
           }
          ],
          "mesh3d": [
           {
            "colorbar": {
             "outlinewidth": 0,
             "ticks": ""
            },
            "type": "mesh3d"
           }
          ],
          "parcoords": [
           {
            "line": {
             "colorbar": {
              "outlinewidth": 0,
              "ticks": ""
             }
            },
            "type": "parcoords"
           }
          ],
          "pie": [
           {
            "automargin": true,
            "type": "pie"
           }
          ],
          "scatter": [
           {
            "fillpattern": {
             "fillmode": "overlay",
             "size": 10,
             "solidity": 0.2
            },
            "type": "scatter"
           }
          ],
          "scatter3d": [
           {
            "line": {
             "colorbar": {
              "outlinewidth": 0,
              "ticks": ""
             }
            },
            "marker": {
             "colorbar": {
              "outlinewidth": 0,
              "ticks": ""
             }
            },
            "type": "scatter3d"
           }
          ],
          "scattercarpet": [
           {
            "marker": {
             "colorbar": {
              "outlinewidth": 0,
              "ticks": ""
             }
            },
            "type": "scattercarpet"
           }
          ],
          "scattergeo": [
           {
            "marker": {
             "colorbar": {
              "outlinewidth": 0,
              "ticks": ""
             }
            },
            "type": "scattergeo"
           }
          ],
          "scattergl": [
           {
            "marker": {
             "colorbar": {
              "outlinewidth": 0,
              "ticks": ""
             }
            },
            "type": "scattergl"
           }
          ],
          "scattermap": [
           {
            "marker": {
             "colorbar": {
              "outlinewidth": 0,
              "ticks": ""
             }
            },
            "type": "scattermap"
           }
          ],
          "scattermapbox": [
           {
            "marker": {
             "colorbar": {
              "outlinewidth": 0,
              "ticks": ""
             }
            },
            "type": "scattermapbox"
           }
          ],
          "scatterpolar": [
           {
            "marker": {
             "colorbar": {
              "outlinewidth": 0,
              "ticks": ""
             }
            },
            "type": "scatterpolar"
           }
          ],
          "scatterpolargl": [
           {
            "marker": {
             "colorbar": {
              "outlinewidth": 0,
              "ticks": ""
             }
            },
            "type": "scatterpolargl"
           }
          ],
          "scatterternary": [
           {
            "marker": {
             "colorbar": {
              "outlinewidth": 0,
              "ticks": ""
             }
            },
            "type": "scatterternary"
           }
          ],
          "surface": [
           {
            "colorbar": {
             "outlinewidth": 0,
             "ticks": ""
            },
            "colorscale": [
             [
              0,
              "#0d0887"
             ],
             [
              0.1111111111111111,
              "#46039f"
             ],
             [
              0.2222222222222222,
              "#7201a8"
             ],
             [
              0.3333333333333333,
              "#9c179e"
             ],
             [
              0.4444444444444444,
              "#bd3786"
             ],
             [
              0.5555555555555556,
              "#d8576b"
             ],
             [
              0.6666666666666666,
              "#ed7953"
             ],
             [
              0.7777777777777778,
              "#fb9f3a"
             ],
             [
              0.8888888888888888,
              "#fdca26"
             ],
             [
              1,
              "#f0f921"
             ]
            ],
            "type": "surface"
           }
          ],
          "table": [
           {
            "cells": {
             "fill": {
              "color": "#EBF0F8"
             },
             "line": {
              "color": "white"
             }
            },
            "header": {
             "fill": {
              "color": "#C8D4E3"
             },
             "line": {
              "color": "white"
             }
            },
            "type": "table"
           }
          ]
         },
         "layout": {
          "annotationdefaults": {
           "arrowcolor": "#2a3f5f",
           "arrowhead": 0,
           "arrowwidth": 1
          },
          "autotypenumbers": "strict",
          "coloraxis": {
           "colorbar": {
            "outlinewidth": 0,
            "ticks": ""
           }
          },
          "colorscale": {
           "diverging": [
            [
             0,
             "#8e0152"
            ],
            [
             0.1,
             "#c51b7d"
            ],
            [
             0.2,
             "#de77ae"
            ],
            [
             0.3,
             "#f1b6da"
            ],
            [
             0.4,
             "#fde0ef"
            ],
            [
             0.5,
             "#f7f7f7"
            ],
            [
             0.6,
             "#e6f5d0"
            ],
            [
             0.7,
             "#b8e186"
            ],
            [
             0.8,
             "#7fbc41"
            ],
            [
             0.9,
             "#4d9221"
            ],
            [
             1,
             "#276419"
            ]
           ],
           "sequential": [
            [
             0,
             "#0d0887"
            ],
            [
             0.1111111111111111,
             "#46039f"
            ],
            [
             0.2222222222222222,
             "#7201a8"
            ],
            [
             0.3333333333333333,
             "#9c179e"
            ],
            [
             0.4444444444444444,
             "#bd3786"
            ],
            [
             0.5555555555555556,
             "#d8576b"
            ],
            [
             0.6666666666666666,
             "#ed7953"
            ],
            [
             0.7777777777777778,
             "#fb9f3a"
            ],
            [
             0.8888888888888888,
             "#fdca26"
            ],
            [
             1,
             "#f0f921"
            ]
           ],
           "sequentialminus": [
            [
             0,
             "#0d0887"
            ],
            [
             0.1111111111111111,
             "#46039f"
            ],
            [
             0.2222222222222222,
             "#7201a8"
            ],
            [
             0.3333333333333333,
             "#9c179e"
            ],
            [
             0.4444444444444444,
             "#bd3786"
            ],
            [
             0.5555555555555556,
             "#d8576b"
            ],
            [
             0.6666666666666666,
             "#ed7953"
            ],
            [
             0.7777777777777778,
             "#fb9f3a"
            ],
            [
             0.8888888888888888,
             "#fdca26"
            ],
            [
             1,
             "#f0f921"
            ]
           ]
          },
          "colorway": [
           "#636efa",
           "#EF553B",
           "#00cc96",
           "#ab63fa",
           "#FFA15A",
           "#19d3f3",
           "#FF6692",
           "#B6E880",
           "#FF97FF",
           "#FECB52"
          ],
          "font": {
           "color": "#2a3f5f"
          },
          "geo": {
           "bgcolor": "white",
           "lakecolor": "white",
           "landcolor": "#E5ECF6",
           "showlakes": true,
           "showland": true,
           "subunitcolor": "white"
          },
          "hoverlabel": {
           "align": "left"
          },
          "hovermode": "closest",
          "mapbox": {
           "style": "light"
          },
          "paper_bgcolor": "white",
          "plot_bgcolor": "#E5ECF6",
          "polar": {
           "angularaxis": {
            "gridcolor": "white",
            "linecolor": "white",
            "ticks": ""
           },
           "bgcolor": "#E5ECF6",
           "radialaxis": {
            "gridcolor": "white",
            "linecolor": "white",
            "ticks": ""
           }
          },
          "scene": {
           "xaxis": {
            "backgroundcolor": "#E5ECF6",
            "gridcolor": "white",
            "gridwidth": 2,
            "linecolor": "white",
            "showbackground": true,
            "ticks": "",
            "zerolinecolor": "white"
           },
           "yaxis": {
            "backgroundcolor": "#E5ECF6",
            "gridcolor": "white",
            "gridwidth": 2,
            "linecolor": "white",
            "showbackground": true,
            "ticks": "",
            "zerolinecolor": "white"
           },
           "zaxis": {
            "backgroundcolor": "#E5ECF6",
            "gridcolor": "white",
            "gridwidth": 2,
            "linecolor": "white",
            "showbackground": true,
            "ticks": "",
            "zerolinecolor": "white"
           }
          },
          "shapedefaults": {
           "line": {
            "color": "#2a3f5f"
           }
          },
          "ternary": {
           "aaxis": {
            "gridcolor": "white",
            "linecolor": "white",
            "ticks": ""
           },
           "baxis": {
            "gridcolor": "white",
            "linecolor": "white",
            "ticks": ""
           },
           "bgcolor": "#E5ECF6",
           "caxis": {
            "gridcolor": "white",
            "linecolor": "white",
            "ticks": ""
           }
          },
          "title": {
           "x": 0.05
          },
          "xaxis": {
           "automargin": true,
           "gridcolor": "white",
           "linecolor": "white",
           "ticks": "",
           "title": {
            "standoff": 15
           },
           "zerolinecolor": "white",
           "zerolinewidth": 2
          },
          "yaxis": {
           "automargin": true,
           "gridcolor": "white",
           "linecolor": "white",
           "ticks": "",
           "title": {
            "standoff": 15
           },
           "zerolinecolor": "white",
           "zerolinewidth": 2
          }
         }
        },
        "title": {
         "text": "GDP per Capita by Country with Healthy Life Expectancy Tooltip"
        },
        "width": 1000
       }
      },
      "image/png": "[encoded data removed]"
     },
     "metadata": {},
     "output_type": "display_data"
    }
   ],
   "source": [
    "# Convert numeric columns to proper types\n",
    "df['Economy (GDP per Capita)'] = pd.to_numeric(df['Economy (GDP per Capita)'], errors='coerce')\n",
    "df['Health (Life Expectancy)'] = pd.to_numeric(df['Health (Life Expectancy)'], errors='coerce')\n",
    "\n",
    "# Drop rows with missing GDP or Healthy Life Expectancy\n",
    "df_clean = df.dropna(subset=['Economy (GDP per Capita)', 'Health (Life Expectancy)'])\n",
    "\n",
    "# Create choropleth map using Plotly\n",
    "fig5 = px.choropleth(\n",
    "    df_clean,\n",
    "    locations='Country',  # Country names\n",
    "    locationmode='country names',\n",
    "    color='Economy (GDP per Capita)',  # Color by GDP per capita\n",
    "    hover_name='Country',  # Tooltip: country name\n",
    "    hover_data={'Health (Life Expectancy)': True, 'Economy (GDP per Capita)': ':.2f'},  # Additional tooltip data\n",
    "    color_continuous_scale='Viridis',\n",
    "    title='GDP per Capita by Country with Healthy Life Expectancy Tooltip',\n",
    "    width=1000,\n",
    "    height=600\n",
    ")\n",
    "\n",
    "# Show the map\n",
    "fig5.show()"
   ]
  },
  {
   "cell_type": "markdown",
   "id": "77a0681c-5e32-46a8-bae2-89011995b2b8",
   "metadata": {},
   "source": [
    "Write Python code to write any four of the Plotly figures (fig1, fig2, fig3, fig4, fig5) to a single HTML file named “dashboard.html”?"
   ]
  },
  {
   "cell_type": "code",
   "execution_count": 33,
   "id": "4d58b281-c7ac-4e37-8b92-36c0617653a4",
   "metadata": {},
   "outputs": [],
   "source": [
    "import plotly.io as pio\n",
    "\n",
    "# List of figures to include\n",
    "figures = [fig1, fig2, fig3, fig4,fig5]\n",
    "\n",
    "# Write multiple figures to a single HTML file\n",
    "with open(\"dashboard.html\", \"w\") as f:\n",
    "    for fig in figures:\n",
    "        # Convert each figure to HTML and append to the file\n",
    "        f.write(pio.to_html(fig, full_html=False, include_plotlyjs='cdn'))\n"
   ]
  },
  {
   "cell_type": "markdown",
   "id": "0fb0aa08-64f9-4b3d-82e5-73c7ee70b450",
   "metadata": {},
   "source": [
    "Generate a narrative to present the dashboard on world happiness report with the following charts:-\n",
    "    1. A heatmap showing correlation\n",
    "    2. A scatter plot to identify the effect of GDP per Capita on Happiness Score in various Regions\n",
    "    3. A pie chart to present Happiness score by Regions\n",
    "    4. A map to display `GDP per capita` of `countries` and include `Healthy Life Expectancy` to be shown as a tooltip"
   ]
  },
  {
   "cell_type": "markdown",
   "id": "5b61c113-5b40-48dc-b020-f78af4d4451e",
   "metadata": {},
   "source": [
    "# World Happiness Report Dashboard Narrative\n",
    "Welcome to the World Happiness Report Dashboard, which provides a visual analysis of global happiness scores and the key factors influencing them. This dashboard comprises four main visualizations that help us explore patterns, relationships, and regional differences in happiness.\n",
    "\n",
    "## 1. Correlation Heatmap\n",
    "The first chart is a heatmap that shows the correlation between various attributes contributing to happiness, such as GDP per Capita, Family, Healthy Life Expectancy, Freedom, Trust in Government, Generosity, and the overall Happiness Score.\n",
    "\n",
    "The heatmap allows us to quickly identify strong positive or negative relationships among these factors.\n",
    "\n",
    "For instance, we can observe how GDP per Capita and Healthy Life Expectancy are strongly correlated with higher Happiness Scores, while other factors like Generosity may have a smaller but notable effect.\n",
    "\n",
    "This chart provides a foundation for understanding which attributes are key drivers of happiness globally.\n",
    "\n",
    "## 2. Scatter Plot: GDP per Capita vs Happiness Score\n",
    "The second chart is a scatter plot that examines the relationship between GDP per Capita and Happiness Score, with countries colored by Region.\n",
    "\n",
    "This visualization helps us identify patterns and trends across different regions.\n",
    "\n",
    "We can see that countries with higher GDP per Capita generally tend to have higher Happiness Scores, although there are exceptions influenced by other social and political factors.\n",
    "\n",
    "Regional coloring allows us to compare economic influence on happiness across continents and groups of countries.\n",
    "\n",
    "## 3. Pie Chart: Happiness Score by Region\n",
    "The third visualization is a pie chart showing the distribution of Happiness Scores by Region.\n",
    "\n",
    "This chart provides a clear proportional view of global happiness, highlighting which regions contribute the most to the overall happiness scores.\n",
    "\n",
    "It also allows for a quick comparison between continents, showing regional disparities in happiness.\n",
    "\n",
    "## 4. Choropleth Map: GDP per Capita with Healthy Life Expectancy Tooltip\n",
    "The fourth visualization is a world map (choropleth) displaying GDP per Capita by country, with Healthy Life Expectancy shown as a tooltip.\n",
    "\n",
    "This map offers a geographical perspective on economic prosperity and health across the globe.\n",
    "\n",
    "Hovering over a country shows its GDP per Capita along with the Healthy Life Expectancy, helping us explore how wealth and health influence happiness geographically.\n",
    "\n",
    "We can observe clusters of high GDP and life expectancy in regions like North America and Western Europe, while other regions show lower economic and health metrics.\n",
    "\n",
    "# Conclusion\n",
    "Together, these visualizations provide a comprehensive view of global happiness patterns.\n",
    "\n",
    "The heatmap identifies the key factors affecting happiness.\n",
    "\n",
    "The scatter plot highlights the economic influence and regional differences.\n",
    "\n",
    "The pie chart offers an overview of happiness contributions by region.\n",
    "\n",
    "The map connects economic and health indicators with geographical locations.\n",
    "\n",
    "This dashboard serves as an insightful tool for policymakers, researchers, and anyone interested in understanding the complex factors that contribute to human happiness worldwide.\n",
    "\n"
   ]
  },
  {
   "cell_type": "code",
   "execution_count": null,
   "id": "237fbcd1-cafe-4a3e-a572-5b428832eb56",
   "metadata": {},
   "outputs": [],
   "source": []
  }
 ],
 "metadata": {
  "kernelspec": {
   "display_name": "Python 3 (ipykernel)",
   "language": "python",
   "name": "python3"
  },
  "language_info": {
   "codemirror_mode": {
    "name": "ipython",
    "version": 3
   },
   "file_extension": ".py",
   "mimetype": "text/x-python",
   "name": "python",
   "nbconvert_exporter": "python",
   "pygments_lexer": "ipython3",
   "version": "3.12.3"
  }
 },
 "nbformat": 4,
 "nbformat_minor": 5
}
